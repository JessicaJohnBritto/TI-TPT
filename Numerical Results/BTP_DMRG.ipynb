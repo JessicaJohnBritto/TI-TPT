{
  "nbformat": 4,
  "nbformat_minor": 0,
  "metadata": {
    "colab": {
      "provenance": []
    },
    "kernelspec": {
      "name": "python3",
      "display_name": "Python 3"
    },
    "language_info": {
      "name": "python"
    }
  },
  "cells": [
    {
      "cell_type": "markdown",
      "source": [
        "# Importing Libraries\n",
        "\n"
      ],
      "metadata": {
        "id": "xUeEl_W3ZkQA"
      }
    },
    {
      "cell_type": "code",
      "source": [
        "import numpy as np\n",
        "import matplotlib.pyplot as plt"
      ],
      "metadata": {
        "id": "mdrrwVoqYYAH"
      },
      "execution_count": 2,
      "outputs": []
    },
    {
      "cell_type": "markdown",
      "source": [
        "# iDMRG for spin-1/2 Heisenberg Model"
      ],
      "metadata": {
        "id": "D5kCNJ4QyT1J"
      }
    },
    {
      "cell_type": "code",
      "source": [
        "params = {'psi': 0.1}"
      ],
      "metadata": {
        "id": "oqDgXY6dWkVN"
      },
      "execution_count": 9,
      "outputs": []
    },
    {
      "cell_type": "code",
      "source": [
        "class initial_toolsDMRG(object):\n",
        "  def wfTwoQbit(self, psi):\n",
        "      \"\"\" Returns the wf of the system as a function of `psi`.\n",
        "\n",
        "      The (normalized) wavefunction of the two-qbit system can be\n",
        "      parametrized as a function an angle `psi`.\n",
        "\n",
        "      Parameters\n",
        "      ----------\n",
        "      psi : a double\n",
        "          Parametrizes the wavefunction.\n",
        "\n",
        "      Returns\n",
        "      -------\n",
        "      result : a Wavefunction\n",
        "          The wavefunction of the two-qbit system for the given `psi`.\n",
        "      \"\"\"\n",
        "      self.psi = psi\n",
        "      result = np.zeros((2,2))\n",
        "\n",
        "      # set the different components.\n",
        "      result[0,1] = np.cos(psi)\n",
        "      result[1, 0] = np.sin(psi)\n",
        "      return result\n",
        "\n",
        "wfobj = initial_toolsDMRG()\n",
        "wf = wfobj.wfTwoQbit(params[\"psi\"])\n",
        "print(wf)"
      ],
      "metadata": {
        "id": "GjBvGI3QyTFT",
        "colab": {
          "base_uri": "https://localhost:8080/"
        },
        "outputId": "e54e2bd9-8277-450c-ae0a-ea5867d54921"
      },
      "execution_count": 10,
      "outputs": [
        {
          "output_type": "stream",
          "name": "stdout",
          "text": [
            "[[0.         0.99500417]\n",
            " [0.09983342 0.        ]]\n"
          ]
        }
      ]
    }
  ]
}