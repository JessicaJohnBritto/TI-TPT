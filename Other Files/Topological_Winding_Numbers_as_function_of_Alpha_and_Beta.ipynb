{
  "cells": [
    {
      "cell_type": "markdown",
      "source": [
        "#### I guess error is due to you are using function of numpy on sympy, which is beause the interpretar gets confused as between numpy and sympy methods, so so either use sp or np"
      ],
      "metadata": {
        "id": "pYIQUSzBNb2b"
      },
      "id": "pYIQUSzBNb2b"
    },
    {
      "cell_type": "code",
      "execution_count": null,
      "id": "11184bf1",
      "metadata": {
        "colab": {
          "base_uri": "https://localhost:8080/"
        },
        "id": "11184bf1",
        "outputId": "c5d471a4-9976-4a1c-c18e-8db4e1c6db0e"
      },
      "outputs": [
        {
          "output_type": "stream",
          "name": "stdout",
          "text": [
            "Looking in indexes: https://pypi.org/simple, https://us-python.pkg.dev/colab-wheels/public/simple/\n",
            "Requirement already satisfied: sympy in /usr/local/lib/python3.10/dist-packages (1.11.1)\n",
            "Requirement already satisfied: mpmath>=0.19 in /usr/local/lib/python3.10/dist-packages (from sympy) (1.3.0)\n"
          ]
        }
      ],
      "source": [
        "!pip install sympy"
      ]
    },
    {
      "cell_type": "code",
      "execution_count": 2,
      "id": "6f374afb",
      "metadata": {
        "id": "6f374afb"
      },
      "outputs": [],
      "source": [
        "import matplotlib.pyplot as plt\n",
        "import numpy as np\n",
        "from numpy import random\n",
        "import scipy.integrate as integrate\n",
        "from sympy import symbols, Matrix\n",
        "import sympy as sp\n",
        "from sympy import series"
      ]
    },
    {
      "cell_type": "code",
      "execution_count": 3,
      "id": "8e29edfa",
      "metadata": {
        "id": "8e29edfa"
      },
      "outputs": [],
      "source": [
        "tau_x = np.array([[0.0, 1.0], [1.0, 0.0]])\n",
        "tau_y = np.array([[0.0, complex(0.0, -1.0)], [ complex(0.0, 1.0), 0.0]])\n",
        "tau_z = np.array([[1.0, 0.0], [0.0, -1.0]])\n",
        "# alpha, beta, T, kx, e= 0, 0, 2, 0, 0.1\n",
        "kx = sp.symbols('kx', real = True)\n",
        "J_0, J_S, e, T, alpha, beta = sp.symbols('J_0, J_S, e, T, alpha, beta')\n",
        "\n",
        "J_0 = 3*alpha/(4*T)\n",
        "J_S = 3*beta/(2*T)\n",
        "\n",
        "#### Define H and Heff - figure out how this is different from Floquet Hamiltonian H"
      ]
    },
    {
      "cell_type": "code",
      "source": [
        "M1 = complex(0, -1)*sp.Matrix([[0, (J_0*T/3)+(J_S*T*sp.exp(kx*complex(0,1))/6)],[(J_0*T/3)+(J_S*T*sp.exp(kx*complex(0,1))/6),0]])\n",
        "M2 =  (T/2)*complex(0, 1)*sp.Matrix([[2*sp.pi/T, -(J_0*T/(3*sp.log(e)))-(J_S*T*sp.exp(kx*complex(0,1))/(6*sp.log(e)))],[-(J_0*T/(3*sp.log(e)))-(J_S*T*sp.exp(kx*complex(0,1))/(6*sp.log(e))),2*sp.pi/T]])"
      ],
      "metadata": {
        "id": "_HV4rnO_MUf_"
      },
      "id": "_HV4rnO_MUf_",
      "execution_count": 4,
      "outputs": []
    },
    {
      "cell_type": "code",
      "source": [
        "print(M1)"
      ],
      "metadata": {
        "colab": {
          "base_uri": "https://localhost:8080/"
        },
        "id": "LsM8WA-YM0Pt",
        "outputId": "aa186202-1f71-448c-ee6e-bf37c501f4f6"
      },
      "id": "LsM8WA-YM0Pt",
      "execution_count": 5,
      "outputs": [
        {
          "output_type": "stream",
          "name": "stdout",
          "text": [
            "Matrix([[0, -1.0*I*(alpha/4 + beta*exp(1.0*I*kx)/4)], [-1.0*I*(alpha/4 + beta*exp(1.0*I*kx)/4), 0]])\n"
          ]
        }
      ]
    },
    {
      "cell_type": "code",
      "execution_count": 11,
      "id": "058cb15a",
      "metadata": {
        "colab": {
          "base_uri": "https://localhost:8080/",
          "height": 741
        },
        "id": "058cb15a",
        "outputId": "838a07a9-be49-416e-f019-0fd8c7248450"
      },
      "outputs": [
        {
          "output_type": "stream",
          "name": "stdout",
          "text": [
            "(-1.0*(0.333333333333333*I*J_0*T + 0.166666666666667*I*J_S*T*exp(1.0*I*kx))*(-0.0138888888888889*J_0**2*T**4*log(e)**2 - 0.0138888888888889*J_0*J_S*T**4*exp(1.0*I*kx)*log(e)**2 - 0.00347222222222222*J_S**2*T**4*exp(2.0*I*kx)*log(e)**2 - 0.5*pi**2*log(e)**4 + 1.0*log(e)**4 + 1.0*I*pi*log(e)**4)/((0.00308641975308642*J_0**4*T**4 + 0.00617283950617284*J_0**3*J_S*T**4*exp(1.0*I*kx) + 0.00462962962962963*J_0**2*J_S**2*T**4*exp(2.0*I*kx) + 0.00154320987654321*J_0*J_S**3*T**4*exp(3.0*I*kx) + 0.000192901234567901*J_S**4*T**4*exp(4.0*I*kx) + 1.0)*(0.000192901234567901*J_0**4*T**8 + 0.000385802469135802*J_0**3*J_S*T**8*exp(1.0*I*kx) + 0.000289351851851852*J_0**2*J_S**2*T**8*exp(2.0*I*kx) - 0.0138888888888889*pi**2*J_0**2*T**4*log(e)**2 + 0.0277777777777778*I*pi*J_0**2*T**4*log(e)**2 + 9.64506172839506e-5*J_0*J_S**3*T**8*exp(3.0*I*kx) - 0.0138888888888889*pi**2*J_0*J_S*T**4*exp(1.0*I*kx)*log(e)**2 + 0.0277777777777778*I*pi*J_0*J_S*T**4*exp(1.0*I*kx)*log(e)**2 + 1.20563271604938e-5*J_S**4*T**8*exp(4.0*I*kx) - 0.00347222222222222*pi**2*J_S**2*T**4*exp(2.0*I*kx)*log(e)**2 + 0.00694444444444444*I*pi*J_S**2*T**4*exp(2.0*I*kx)*log(e)**2 - 2.0*pi**2*log(e)**4 + 1.0*log(e)**4 + 0.25*pi**4*log(e)**4 - 1.0*I*pi**3*log(e)**4 + 2.0*I*pi*log(e)**4)) - 1.0*(-0.166666666666667*pi*J_0*T**2*log(e)**3 + 0.166666666666667*I*J_0*T**2*log(e)**3 - 0.0833333333333333*pi*J_S*T**2*exp(1.0*I*kx)*log(e)**3 + 0.0833333333333333*I*J_S*T**2*exp(1.0*I*kx)*log(e)**3)*(-0.00308641975308642*J_0**4*T**4 - 0.00617283950617284*J_0**3*J_S*T**4*exp(1.0*I*kx) - 0.00462962962962963*J_0**2*J_S**2*T**4*exp(2.0*I*kx) + 0.111111111111111*J_0**2*T**2 - 0.00154320987654321*J_0*J_S**3*T**4*exp(3.0*I*kx) + 0.111111111111111*J_0*J_S*T**2*exp(1.0*I*kx) - 0.000192901234567901*J_S**4*T**4*exp(4.0*I*kx) + 0.0277777777777778*J_S**2*T**2*exp(2.0*I*kx) - 1.0)/((0.000192901234567901*J_0**4*T**8 + 0.000385802469135802*J_0**3*J_S*T**8*exp(1.0*I*kx) + 0.000289351851851852*J_0**2*J_S**2*T**8*exp(2.0*I*kx) - 0.0138888888888889*pi**2*J_0**2*T**4*log(e)**2 + 0.0277777777777778*I*pi*J_0**2*T**4*log(e)**2 + 9.64506172839506e-5*J_0*J_S**3*T**8*exp(3.0*I*kx) - 0.0138888888888889*pi**2*J_0*J_S*T**4*exp(1.0*I*kx)*log(e)**2 + 0.0277777777777778*I*pi*J_0*J_S*T**4*exp(1.0*I*kx)*log(e)**2 + 1.20563271604938e-5*J_S**4*T**8*exp(4.0*I*kx) - 0.00347222222222222*pi**2*J_S**2*T**4*exp(2.0*I*kx)*log(e)**2 + 0.00694444444444444*I*pi*J_S**2*T**4*exp(2.0*I*kx)*log(e)**2 - 2.0*pi**2*log(e)**4 + 1.0*log(e)**4 + 0.25*pi**4*log(e)**4 - 1.0*I*pi**3*log(e)**4 + 2.0*I*pi*log(e)**4)*(0.000171467764060357*J_0**6*T**6 + 0.00051440329218107*J_0**5*J_S*T**6*exp(1.0*I*kx) + 0.000643004115226337*J_0**4*J_S**2*T**6*exp(2.0*I*kx) - 0.00308641975308642*J_0**4*T**4 + 0.000428669410150892*J_0**3*J_S**3*T**6*exp(3.0*I*kx) - 0.00617283950617284*J_0**3*J_S*T**4*exp(1.0*I*kx) + 0.000160751028806584*J_0**2*J_S**4*T**6*exp(4.0*I*kx) - 0.00462962962962963*J_0**2*J_S**2*T**4*exp(2.0*I*kx) + 0.0555555555555556*J_0**2*T**2 + 3.21502057613169e-5*J_0*J_S**5*T**6*exp(5.0*I*kx) - 0.00154320987654321*J_0*J_S**3*T**4*exp(3.0*I*kx) + 0.0555555555555556*J_0*J_S*T**2*exp(1.0*I*kx) + 2.67918381344307e-6*J_S**6*T**6*exp(6.0*I*kx) - 0.000192901234567901*J_S**4*T**4*exp(4.0*I*kx) + 0.0138888888888889*J_S**2*T**2*exp(2.0*I*kx) - 1.0)))*(0.166666666666667*J_S*T*(0.5*(-0.0277777777777778*J_0**2*T**4 - 0.0277777777777778*J_0*J_S*T**4*exp(1.0*I*kx) - 0.00694444444444444*J_S**2*T**4*exp(2.0*I*kx) - 1.0*pi**2*log(e)**2)/log(e)**2 + 1 + 1.0*I*pi)*exp(1.0*I*kx) - 0.5*I*(J_0*T/3 + J_S*T*exp(1.0*I*kx)/6)*(-0.0277777777777778*I*J_0*J_S*T**4*exp(1.0*I*kx) - 0.0138888888888889*I*J_S**2*T**4*exp(2.0*I*kx))/log(e)**2 + (0.5*I*T*(-J_0*T/(3*log(e)) - J_S*T*exp(1.0*I*kx)/(6*log(e))) + 0.5*(0.333333333333333*pi*J_0*T**2 + 0.166666666666667*pi*J_S*T**2*exp(1.0*I*kx))/log(e))*(-0.0555555555555556*I*J_0*J_S*T**2*exp(1.0*I*kx) - 0.0277777777777778*I*J_S**2*T**2*exp(2.0*I*kx)) + (0.0833333333333333*J_S*T**2*exp(1.0*I*kx)/log(e) + 0.0833333333333333*I*pi*J_S*T**2*exp(1.0*I*kx)/log(e))*(-0.0555555555555556*J_0**2*T**2 - 0.0555555555555556*J_0*J_S*T**2*exp(1.0*I*kx) - 0.0138888888888889*J_S**2*T**2*exp(2.0*I*kx) + 1)) + (1.0*(0.333333333333333*I*J_0*T + 0.166666666666667*I*J_S*T*exp(1.0*I*kx))*(-0.00231481481481481*pi*J_0**3*T**6*log(e)**3 + 0.00231481481481481*I*J_0**3*T**6*log(e)**3 - 0.00347222222222222*pi*J_0**2*J_S*T**6*exp(1.0*I*kx)*log(e)**3 + 0.00347222222222222*I*J_0**2*J_S*T**6*exp(1.0*I*kx)*log(e)**3 - 0.00173611111111111*pi*J_0*J_S**2*T**6*exp(2.0*I*kx)*log(e)**3 + 0.00173611111111111*I*J_0*J_S**2*T**6*exp(2.0*I*kx)*log(e)**3 - 0.0833333333333333*pi**3*J_0*T**2*log(e)**5 + 0.333333333333333*pi*J_0*T**2*log(e)**5 - 0.166666666666667*I*J_0*T**2*log(e)**5 + 0.25*I*pi**2*J_0*T**2*log(e)**5 - 0.000289351851851852*pi*J_S**3*T**6*exp(3.0*I*kx)*log(e)**3 + 0.000289351851851852*I*J_S**3*T**6*exp(3.0*I*kx)*log(e)**3 - 0.0416666666666667*pi**3*J_S*T**2*exp(1.0*I*kx)*log(e)**5 + 0.166666666666667*pi*J_S*T**2*exp(1.0*I*kx)*log(e)**5 - 0.0833333333333333*I*J_S*T**2*exp(1.0*I*kx)*log(e)**5 + 0.125*I*pi**2*J_S*T**2*exp(1.0*I*kx)*log(e)**5)/((0.00308641975308642*J_0**4*T**4 + 0.00617283950617284*J_0**3*J_S*T**4*exp(1.0*I*kx) + 0.00462962962962963*J_0**2*J_S**2*T**4*exp(2.0*I*kx) + 0.00154320987654321*J_0*J_S**3*T**4*exp(3.0*I*kx) + 0.000192901234567901*J_S**4*T**4*exp(4.0*I*kx) + 1.0)*(2.67918381344307e-6*J_0**6*T**12 + 8.03755144032922e-6*J_0**5*J_S*T**12*exp(1.0*I*kx) + 1.00469393004115e-5*J_0**4*J_S**2*T**12*exp(2.0*I*kx) - 9.64506172839506e-5*pi**2*J_0**4*T**8*log(e)**2 - 0.000192901234567901*J_0**4*T**8*log(e)**2 + 0.000192901234567901*I*pi*J_0**4*T**8*log(e)**2 + 6.69795953360768e-6*J_0**3*J_S**3*T**12*exp(3.0*I*kx) - 0.000192901234567901*pi**2*J_0**3*J_S*T**8*exp(1.0*I*kx)*log(e)**2 - 0.000385802469135802*J_0**3*J_S*T**8*exp(1.0*I*kx)*log(e)**2 + 0.000385802469135802*I*pi*J_0**3*J_S*T**8*exp(1.0*I*kx)*log(e)**2 + 2.51173482510288e-6*J_0**2*J_S**4*T**12*exp(4.0*I*kx) - 0.000144675925925926*pi**2*J_0**2*J_S**2*T**8*exp(2.0*I*kx)*log(e)**2 - 0.000289351851851852*J_0**2*J_S**2*T**8*exp(2.0*I*kx)*log(e)**2 + 0.000289351851851852*I*pi*J_0**2*J_S**2*T**8*exp(2.0*I*kx)*log(e)**2 - 0.00347222222222222*pi**4*J_0**2*T**4*log(e)**4 + 0.0138888888888889*J_0**2*T**4*log(e)**4 + 0.0138888888888889*pi**2*J_0**2*T**4*log(e)**4 + 0.0138888888888889*I*pi**3*J_0**2*T**4*log(e)**4 + 5.02346965020576e-7*J_0*J_S**5*T**12*exp(5.0*I*kx) - 4.82253086419753e-5*pi**2*J_0*J_S**3*T**8*exp(3.0*I*kx)*log(e)**2 - 9.64506172839506e-5*J_0*J_S**3*T**8*exp(3.0*I*kx)*log(e)**2 + 9.64506172839506e-5*I*pi*J_0*J_S**3*T**8*exp(3.0*I*kx)*log(e)**2 - 0.00347222222222222*pi**4*J_0*J_S*T**4*exp(1.0*I*kx)*log(e)**4 + 0.0138888888888889*J_0*J_S*T**4*exp(1.0*I*kx)*log(e)**4 + 0.0138888888888889*pi**2*J_0*J_S*T**4*exp(1.0*I*kx)*log(e)**4 + 0.0138888888888889*I*pi**3*J_0*J_S*T**4*exp(1.0*I*kx)*log(e)**4 + 4.1862247085048e-8*J_S**6*T**12*exp(6.0*I*kx) - 6.02816358024691e-6*pi**2*J_S**4*T**8*exp(4.0*I*kx)*log(e)**2 - 1.20563271604938e-5*J_S**4*T**8*exp(4.0*I*kx)*log(e)**2 + 1.20563271604938e-5*I*pi*J_S**4*T**8*exp(4.0*I*kx)*log(e)**2 - 0.000868055555555556*pi**4*J_S**2*T**4*exp(2.0*I*kx)*log(e)**4 + 0.00347222222222222*J_S**2*T**4*exp(2.0*I*kx)*log(e)**4 + 0.00347222222222222*pi**2*J_S**2*T**4*exp(2.0*I*kx)*log(e)**4 + 0.00347222222222222*I*pi**3*J_S**2*T**4*exp(2.0*I*kx)*log(e)**4 - 2.25*pi**4*log(e)**6 - 1.0*log(e)**6 + 4.5*pi**2*log(e)**6 + 0.125*pi**6*log(e)**6 - 0.75*I*pi**5*log(e)**6 - 3.0*I*pi*log(e)**6 + 4.0*I*pi**3*log(e)**6)) + 1.0*(-0.00308641975308642*J_0**4*T**4 - 0.00617283950617284*J_0**3*J_S*T**4*exp(1.0*I*kx) - 0.00462962962962963*J_0**2*J_S**2*T**4*exp(2.0*I*kx) + 0.111111111111111*J_0**2*T**2 - 0.00154320987654321*J_0*J_S**3*T**4*exp(3.0*I*kx) + 0.111111111111111*J_0*J_S*T**2*exp(1.0*I*kx) - 0.000192901234567901*J_S**4*T**4*exp(4.0*I*kx) + 0.0277777777777778*J_S**2*T**2*exp(2.0*I*kx) - 1.0)*(-0.000192901234567901*J_0**4*T**8*log(e)**2 - 0.000385802469135802*J_0**3*J_S*T**8*exp(1.0*I*kx)*log(e)**2 - 0.000289351851851852*J_0**2*J_S**2*T**8*exp(2.0*I*kx)*log(e)**2 - 0.0138888888888889*pi**2*J_0**2*T**4*log(e)**4 + 0.0277777777777778*J_0**2*T**4*log(e)**4 + 0.0277777777777778*I*pi*J_0**2*T**4*log(e)**4 - 9.64506172839506e-5*J_0*J_S**3*T**8*exp(3.0*I*kx)*log(e)**2 - 0.0138888888888889*pi**2*J_0*J_S*T**4*exp(1.0*I*kx)*log(e)**4 + 0.0277777777777778*J_0*J_S*T**4*exp(1.0*I*kx)*log(e)**4 + 0.0277777777777778*I*pi*J_0*J_S*T**4*exp(1.0*I*kx)*log(e)**4 - 1.20563271604938e-5*J_S**4*T**8*exp(4.0*I*kx)*log(e)**2 - 0.00347222222222222*pi**2*J_S**2*T**4*exp(2.0*I*kx)*log(e)**4 + 0.00694444444444444*J_S**2*T**4*exp(2.0*I*kx)*log(e)**4 + 0.00694444444444444*I*pi*J_S**2*T**4*exp(2.0*I*kx)*log(e)**4 - 0.25*pi**4*log(e)**6 - 1.0*log(e)**6 + 2.0*pi**2*log(e)**6 - 2.0*I*pi*log(e)**6 + 1.0*I*pi**3*log(e)**6)/((0.000171467764060357*J_0**6*T**6 + 0.00051440329218107*J_0**5*J_S*T**6*exp(1.0*I*kx) + 0.000643004115226337*J_0**4*J_S**2*T**6*exp(2.0*I*kx) - 0.00308641975308642*J_0**4*T**4 + 0.000428669410150892*J_0**3*J_S**3*T**6*exp(3.0*I*kx) - 0.00617283950617284*J_0**3*J_S*T**4*exp(1.0*I*kx) + 0.000160751028806584*J_0**2*J_S**4*T**6*exp(4.0*I*kx) - 0.00462962962962963*J_0**2*J_S**2*T**4*exp(2.0*I*kx) + 0.0555555555555556*J_0**2*T**2 + 3.21502057613169e-5*J_0*J_S**5*T**6*exp(5.0*I*kx) - 0.00154320987654321*J_0*J_S**3*T**4*exp(3.0*I*kx) + 0.0555555555555556*J_0*J_S*T**2*exp(1.0*I*kx) + 2.67918381344307e-6*J_S**6*T**6*exp(6.0*I*kx) - 0.000192901234567901*J_S**4*T**4*exp(4.0*I*kx) + 0.0138888888888889*J_S**2*T**2*exp(2.0*I*kx) - 1.0)*(2.67918381344307e-6*J_0**6*T**12 + 8.03755144032922e-6*J_0**5*J_S*T**12*exp(1.0*I*kx) + 1.00469393004115e-5*J_0**4*J_S**2*T**12*exp(2.0*I*kx) - 9.64506172839506e-5*pi**2*J_0**4*T**8*log(e)**2 - 0.000192901234567901*J_0**4*T**8*log(e)**2 + 0.000192901234567901*I*pi*J_0**4*T**8*log(e)**2 + 6.69795953360768e-6*J_0**3*J_S**3*T**12*exp(3.0*I*kx) - 0.000192901234567901*pi**2*J_0**3*J_S*T**8*exp(1.0*I*kx)*log(e)**2 - 0.000385802469135802*J_0**3*J_S*T**8*exp(1.0*I*kx)*log(e)**2 + 0.000385802469135802*I*pi*J_0**3*J_S*T**8*exp(1.0*I*kx)*log(e)**2 + 2.51173482510288e-6*J_0**2*J_S**4*T**12*exp(4.0*I*kx) - 0.000144675925925926*pi**2*J_0**2*J_S**2*T**8*exp(2.0*I*kx)*log(e)**2 - 0.000289351851851852*J_0**2*J_S**2*T**8*exp(2.0*I*kx)*log(e)**2 + 0.000289351851851852*I*pi*J_0**2*J_S**2*T**8*exp(2.0*I*kx)*log(e)**2 - 0.00347222222222222*pi**4*J_0**2*T**4*log(e)**4 + 0.0138888888888889*J_0**2*T**4*log(e)**4 + 0.0138888888888889*pi**2*J_0**2*T**4*log(e)**4 + 0.0138888888888889*I*pi**3*J_0**2*T**4*log(e)**4 + 5.02346965020576e-7*J_0*J_S**5*T**12*exp(5.0*I*kx) - 4.82253086419753e-5*pi**2*J_0*J_S**3*T**8*exp(3.0*I*kx)*log(e)**2 - 9.64506172839506e-5*J_0*J_S**3*T**8*exp(3.0*I*kx)*log(e)**2 + 9.64506172839506e-5*I*pi*J_0*J_S**3*T**8*exp(3.0*I*kx)*log(e)**2 - 0.00347222222222222*pi**4*J_0*J_S*T**4*exp(1.0*I*kx)*log(e)**4 + 0.0138888888888889*J_0*J_S*T**4*exp(1.0*I*kx)*log(e)**4 + 0.0138888888888889*pi**2*J_0*J_S*T**4*exp(1.0*I*kx)*log(e)**4 + 0.0138888888888889*I*pi**3*J_0*J_S*T**4*exp(1.0*I*kx)*log(e)**4 + 4.1862247085048e-8*J_S**6*T**12*exp(6.0*I*kx) - 6.02816358024691e-6*pi**2*J_S**4*T**8*exp(4.0*I*kx)*log(e)**2 - 1.20563271604938e-5*J_S**4*T**8*exp(4.0*I*kx)*log(e)**2 + 1.20563271604938e-5*I*pi*J_S**4*T**8*exp(4.0*I*kx)*log(e)**2 - 0.000868055555555556*pi**4*J_S**2*T**4*exp(2.0*I*kx)*log(e)**4 + 0.00347222222222222*J_S**2*T**4*exp(2.0*I*kx)*log(e)**4 + 0.00347222222222222*pi**2*J_S**2*T**4*exp(2.0*I*kx)*log(e)**4 + 0.00347222222222222*I*pi**3*J_S**2*T**4*exp(2.0*I*kx)*log(e)**4 - 2.25*pi**4*log(e)**6 - 1.0*log(e)**6 + 4.5*pi**2*log(e)**6 + 0.125*pi**6*log(e)**6 - 0.75*I*pi**5*log(e)**6 - 3.0*I*pi*log(e)**6 + 4.0*I*pi**3*log(e)**6)))*(0.166666666666667*J_S*T*(0.5*I*T*(-J_0*T/(3*log(e)) - J_S*T*exp(1.0*I*kx)/(6*log(e))) + 0.5*(0.333333333333333*pi*J_0*T**2 + 0.166666666666667*pi*J_S*T**2*exp(1.0*I*kx))/log(e))*exp(1.0*I*kx) - 1.0*I*(J_0*T/3 + J_S*T*exp(1.0*I*kx)/6)*(0.0833333333333333*J_S*T**2*exp(1.0*I*kx)/log(e) + 0.0833333333333333*I*pi*J_S*T**2*exp(1.0*I*kx)/log(e)) + (-0.0555555555555556*I*J_0*J_S*T**2*exp(1.0*I*kx) - 0.0277777777777778*I*J_S**2*T**2*exp(2.0*I*kx))*(0.5*(-0.0277777777777778*J_0**2*T**4 - 0.0277777777777778*J_0*J_S*T**4*exp(1.0*I*kx) - 0.00694444444444444*J_S**2*T**4*exp(2.0*I*kx) - 1.0*pi**2*log(e)**2)/log(e)**2 + 1 + 1.0*I*pi) + 0.5*(-0.0277777777777778*I*J_0*J_S*T**4*exp(1.0*I*kx) - 0.0138888888888889*I*J_S**2*T**4*exp(2.0*I*kx))*(-0.0555555555555556*J_0**2*T**2 - 0.0555555555555556*J_0*J_S*T**2*exp(1.0*I*kx) - 0.0138888888888889*J_S**2*T**2*exp(2.0*I*kx) + 1)/log(e)**2) + (-1.0*(-0.0555555555555556*J_0**2*T**2 - 0.0555555555555556*J_0*J_S*T**2*exp(1.0*I*kx) - 0.0138888888888889*J_S**2*T**2*exp(2.0*I*kx) + 1.0)*(-0.0138888888888889*J_0**2*T**4*log(e)**2 - 0.0138888888888889*J_0*J_S*T**4*exp(1.0*I*kx)*log(e)**2 - 0.00347222222222222*J_S**2*T**4*exp(2.0*I*kx)*log(e)**2 - 0.5*pi**2*log(e)**4 + 1.0*log(e)**4 + 1.0*I*pi*log(e)**4)/((0.00308641975308642*J_0**4*T**4 + 0.00617283950617284*J_0**3*J_S*T**4*exp(1.0*I*kx) + 0.00462962962962963*J_0**2*J_S**2*T**4*exp(2.0*I*kx) + 0.00154320987654321*J_0*J_S**3*T**4*exp(3.0*I*kx) + 0.000192901234567901*J_S**4*T**4*exp(4.0*I*kx) + 1.0)*(0.000192901234567901*J_0**4*T**8 + 0.000385802469135802*J_0**3*J_S*T**8*exp(1.0*I*kx) + 0.000289351851851852*J_0**2*J_S**2*T**8*exp(2.0*I*kx) - 0.0138888888888889*pi**2*J_0**2*T**4*log(e)**2 + 0.0277777777777778*I*pi*J_0**2*T**4*log(e)**2 + 9.64506172839506e-5*J_0*J_S**3*T**8*exp(3.0*I*kx) - 0.0138888888888889*pi**2*J_0*J_S*T**4*exp(1.0*I*kx)*log(e)**2 + 0.0277777777777778*I*pi*J_0*J_S*T**4*exp(1.0*I*kx)*log(e)**2 + 1.20563271604938e-5*J_S**4*T**8*exp(4.0*I*kx) - 0.00347222222222222*pi**2*J_S**2*T**4*exp(2.0*I*kx)*log(e)**2 + 0.00694444444444444*I*pi*J_S**2*T**4*exp(2.0*I*kx)*log(e)**2 - 2.0*pi**2*log(e)**4 + 1.0*log(e)**4 + 0.25*pi**4*log(e)**4 - 1.0*I*pi**3*log(e)**4 + 2.0*I*pi*log(e)**4)) - 1.0*(-0.166666666666667*pi*J_0*T**2*log(e)**3 + 0.166666666666667*I*J_0*T**2*log(e)**3 - 0.0833333333333333*pi*J_S*T**2*exp(1.0*I*kx)*log(e)**3 + 0.0833333333333333*I*J_S*T**2*exp(1.0*I*kx)*log(e)**3)*(0.0185185185185185*I*J_0**3*T**3 + 0.0277777777777778*I*J_0**2*J_S*T**3*exp(1.0*I*kx) + 0.0138888888888889*I*J_0*J_S**2*T**3*exp(2.0*I*kx) - 0.333333333333333*I*J_0*T + 0.00231481481481481*I*J_S**3*T**3*exp(3.0*I*kx) - 0.166666666666667*I*J_S*T*exp(1.0*I*kx))/((0.000192901234567901*J_0**4*T**8 + 0.000385802469135802*J_0**3*J_S*T**8*exp(1.0*I*kx) + 0.000289351851851852*J_0**2*J_S**2*T**8*exp(2.0*I*kx) - 0.0138888888888889*pi**2*J_0**2*T**4*log(e)**2 + 0.0277777777777778*I*pi*J_0**2*T**4*log(e)**2 + 9.64506172839506e-5*J_0*J_S**3*T**8*exp(3.0*I*kx) - 0.0138888888888889*pi**2*J_0*J_S*T**4*exp(1.0*I*kx)*log(e)**2 + 0.0277777777777778*I*pi*J_0*J_S*T**4*exp(1.0*I*kx)*log(e)**2 + 1.20563271604938e-5*J_S**4*T**8*exp(4.0*I*kx) - 0.00347222222222222*pi**2*J_S**2*T**4*exp(2.0*I*kx)*log(e)**2 + 0.00694444444444444*I*pi*J_S**2*T**4*exp(2.0*I*kx)*log(e)**2 - 2.0*pi**2*log(e)**4 + 1.0*log(e)**4 + 0.25*pi**4*log(e)**4 - 1.0*I*pi**3*log(e)**4 + 2.0*I*pi*log(e)**4)*(0.000171467764060357*J_0**6*T**6 + 0.00051440329218107*J_0**5*J_S*T**6*exp(1.0*I*kx) + 0.000643004115226337*J_0**4*J_S**2*T**6*exp(2.0*I*kx) - 0.00308641975308642*J_0**4*T**4 + 0.000428669410150892*J_0**3*J_S**3*T**6*exp(3.0*I*kx) - 0.00617283950617284*J_0**3*J_S*T**4*exp(1.0*I*kx) + 0.000160751028806584*J_0**2*J_S**4*T**6*exp(4.0*I*kx) - 0.00462962962962963*J_0**2*J_S**2*T**4*exp(2.0*I*kx) + 0.0555555555555556*J_0**2*T**2 + 3.21502057613169e-5*J_0*J_S**5*T**6*exp(5.0*I*kx) - 0.00154320987654321*J_0*J_S**3*T**4*exp(3.0*I*kx) + 0.0555555555555556*J_0*J_S*T**2*exp(1.0*I*kx) + 2.67918381344307e-6*J_S**6*T**6*exp(6.0*I*kx) - 0.000192901234567901*J_S**4*T**4*exp(4.0*I*kx) + 0.0138888888888889*J_S**2*T**2*exp(2.0*I*kx) - 1.0)))*(0.166666666666667*J_S*T*(0.5*I*T*(-J_0*T/(3*log(e)) - J_S*T*exp(1.0*I*kx)/(6*log(e))) + 0.5*(0.333333333333333*pi*J_0*T**2 + 0.166666666666667*pi*J_S*T**2*exp(1.0*I*kx))/log(e))*exp(1.0*I*kx) - 1.0*I*(J_0*T/3 + J_S*T*exp(1.0*I*kx)/6)*(0.0833333333333333*J_S*T**2*exp(1.0*I*kx)/log(e) + 0.0833333333333333*I*pi*J_S*T**2*exp(1.0*I*kx)/log(e)) + (-0.0555555555555556*I*J_0*J_S*T**2*exp(1.0*I*kx) - 0.0277777777777778*I*J_S**2*T**2*exp(2.0*I*kx))*(0.5*(-0.0277777777777778*J_0**2*T**4 - 0.0277777777777778*J_0*J_S*T**4*exp(1.0*I*kx) - 0.00694444444444444*J_S**2*T**4*exp(2.0*I*kx) - 1.0*pi**2*log(e)**2)/log(e)**2 + 1 + 1.0*I*pi) + 0.5*(-0.0277777777777778*I*J_0*J_S*T**4*exp(1.0*I*kx) - 0.0138888888888889*I*J_S**2*T**4*exp(2.0*I*kx))*(-0.0555555555555556*J_0**2*T**2 - 0.0555555555555556*J_0*J_S*T**2*exp(1.0*I*kx) - 0.0138888888888889*J_S**2*T**2*exp(2.0*I*kx) + 1)/log(e)**2) + (1.0*(-0.0555555555555556*J_0**2*T**2 - 0.0555555555555556*J_0*J_S*T**2*exp(1.0*I*kx) - 0.0138888888888889*J_S**2*T**2*exp(2.0*I*kx) + 1.0)*(-0.00231481481481481*pi*J_0**3*T**6*log(e)**3 + 0.00231481481481481*I*J_0**3*T**6*log(e)**3 - 0.00347222222222222*pi*J_0**2*J_S*T**6*exp(1.0*I*kx)*log(e)**3 + 0.00347222222222222*I*J_0**2*J_S*T**6*exp(1.0*I*kx)*log(e)**3 - 0.00173611111111111*pi*J_0*J_S**2*T**6*exp(2.0*I*kx)*log(e)**3 + 0.00173611111111111*I*J_0*J_S**2*T**6*exp(2.0*I*kx)*log(e)**3 - 0.0833333333333333*pi**3*J_0*T**2*log(e)**5 + 0.333333333333333*pi*J_0*T**2*log(e)**5 - 0.166666666666667*I*J_0*T**2*log(e)**5 + 0.25*I*pi**2*J_0*T**2*log(e)**5 - 0.000289351851851852*pi*J_S**3*T**6*exp(3.0*I*kx)*log(e)**3 + 0.000289351851851852*I*J_S**3*T**6*exp(3.0*I*kx)*log(e)**3 - 0.0416666666666667*pi**3*J_S*T**2*exp(1.0*I*kx)*log(e)**5 + 0.166666666666667*pi*J_S*T**2*exp(1.0*I*kx)*log(e)**5 - 0.0833333333333333*I*J_S*T**2*exp(1.0*I*kx)*log(e)**5 + 0.125*I*pi**2*J_S*T**2*exp(1.0*I*kx)*log(e)**5)/((0.00308641975308642*J_0**4*T**4 + 0.00617283950617284*J_0**3*J_S*T**4*exp(1.0*I*kx) + 0.00462962962962963*J_0**2*J_S**2*T**4*exp(2.0*I*kx) + 0.00154320987654321*J_0*J_S**3*T**4*exp(3.0*I*kx) + 0.000192901234567901*J_S**4*T**4*exp(4.0*I*kx) + 1.0)*(2.67918381344307e-6*J_0**6*T**12 + 8.03755144032922e-6*J_0**5*J_S*T**12*exp(1.0*I*kx) + 1.00469393004115e-5*J_0**4*J_S**2*T**12*exp(2.0*I*kx) - 9.64506172839506e-5*pi**2*J_0**4*T**8*log(e)**2 - 0.000192901234567901*J_0**4*T**8*log(e)**2 + 0.000192901234567901*I*pi*J_0**4*T**8*log(e)**2 + 6.69795953360768e-6*J_0**3*J_S**3*T**12*exp(3.0*I*kx) - 0.000192901234567901*pi**2*J_0**3*J_S*T**8*exp(1.0*I*kx)*log(e)**2 - 0.000385802469135802*J_0**3*J_S*T**8*exp(1.0*I*kx)*log(e)**2 + 0.000385802469135802*I*pi*J_0**3*J_S*T**8*exp(1.0*I*kx)*log(e)**2 + 2.51173482510288e-6*J_0**2*J_S**4*T**12*exp(4.0*I*kx) - 0.000144675925925926*pi**2*J_0**2*J_S**2*T**8*exp(2.0*I*kx)*log(e)**2 - 0.000289351851851852*J_0**2*J_S**2*T**8*exp(2.0*I*kx)*log(e)**2 + 0.000289351851851852*I*pi*J_0**2*J_S**2*T**8*exp(2.0*I*kx)*log(e)**2 - 0.00347222222222222*pi**4*J_0**2*T**4*log(e)**4 + 0.0138888888888889*J_0**2*T**4*log(e)**4 + 0.0138888888888889*pi**2*J_0**2*T**4*log(e)**4 + 0.0138888888888889*I*pi**3*J_0**2*T**4*log(e)**4 + 5.02346965020576e-7*J_0*J_S**5*T**12*exp(5.0*I*kx) - 4.82253086419753e-5*pi**2*J_0*J_S**3*T**8*exp(3.0*I*kx)*log(e)**2 - 9.64506172839506e-5*J_0*J_S**3*T**8*exp(3.0*I*kx)*log(e)**2 + 9.64506172839506e-5*I*pi*J_0*J_S**3*T**8*exp(3.0*I*kx)*log(e)**2 - 0.00347222222222222*pi**4*J_0*J_S*T**4*exp(1.0*I*kx)*log(e)**4 + 0.0138888888888889*J_0*J_S*T**4*exp(1.0*I*kx)*log(e)**4 + 0.0138888888888889*pi**2*J_0*J_S*T**4*exp(1.0*I*kx)*log(e)**4 + 0.0138888888888889*I*pi**3*J_0*J_S*T**4*exp(1.0*I*kx)*log(e)**4 + 4.1862247085048e-8*J_S**6*T**12*exp(6.0*I*kx) - 6.02816358024691e-6*pi**2*J_S**4*T**8*exp(4.0*I*kx)*log(e)**2 - 1.20563271604938e-5*J_S**4*T**8*exp(4.0*I*kx)*log(e)**2 + 1.20563271604938e-5*I*pi*J_S**4*T**8*exp(4.0*I*kx)*log(e)**2 - 0.000868055555555556*pi**4*J_S**2*T**4*exp(2.0*I*kx)*log(e)**4 + 0.00347222222222222*J_S**2*T**4*exp(2.0*I*kx)*log(e)**4 + 0.00347222222222222*pi**2*J_S**2*T**4*exp(2.0*I*kx)*log(e)**4 + 0.00347222222222222*I*pi**3*J_S**2*T**4*exp(2.0*I*kx)*log(e)**4 - 2.25*pi**4*log(e)**6 - 1.0*log(e)**6 + 4.5*pi**2*log(e)**6 + 0.125*pi**6*log(e)**6 - 0.75*I*pi**5*log(e)**6 - 3.0*I*pi*log(e)**6 + 4.0*I*pi**3*log(e)**6)) + 1.0*(0.0185185185185185*I*J_0**3*T**3 + 0.0277777777777778*I*J_0**2*J_S*T**3*exp(1.0*I*kx) + 0.0138888888888889*I*J_0*J_S**2*T**3*exp(2.0*I*kx) - 0.333333333333333*I*J_0*T + 0.00231481481481481*I*J_S**3*T**3*exp(3.0*I*kx) - 0.166666666666667*I*J_S*T*exp(1.0*I*kx))*(-0.000192901234567901*J_0**4*T**8*log(e)**2 - 0.000385802469135802*J_0**3*J_S*T**8*exp(1.0*I*kx)*log(e)**2 - 0.000289351851851852*J_0**2*J_S**2*T**8*exp(2.0*I*kx)*log(e)**2 - 0.0138888888888889*pi**2*J_0**2*T**4*log(e)**4 + 0.0277777777777778*J_0**2*T**4*log(e)**4 + 0.0277777777777778*I*pi*J_0**2*T**4*log(e)**4 - 9.64506172839506e-5*J_0*J_S**3*T**8*exp(3.0*I*kx)*log(e)**2 - 0.0138888888888889*pi**2*J_0*J_S*T**4*exp(1.0*I*kx)*log(e)**4 + 0.0277777777777778*J_0*J_S*T**4*exp(1.0*I*kx)*log(e)**4 + 0.0277777777777778*I*pi*J_0*J_S*T**4*exp(1.0*I*kx)*log(e)**4 - 1.20563271604938e-5*J_S**4*T**8*exp(4.0*I*kx)*log(e)**2 - 0.00347222222222222*pi**2*J_S**2*T**4*exp(2.0*I*kx)*log(e)**4 + 0.00694444444444444*J_S**2*T**4*exp(2.0*I*kx)*log(e)**4 + 0.00694444444444444*I*pi*J_S**2*T**4*exp(2.0*I*kx)*log(e)**4 - 0.25*pi**4*log(e)**6 - 1.0*log(e)**6 + 2.0*pi**2*log(e)**6 - 2.0*I*pi*log(e)**6 + 1.0*I*pi**3*log(e)**6)/((0.000171467764060357*J_0**6*T**6 + 0.00051440329218107*J_0**5*J_S*T**6*exp(1.0*I*kx) + 0.000643004115226337*J_0**4*J_S**2*T**6*exp(2.0*I*kx) - 0.00308641975308642*J_0**4*T**4 + 0.000428669410150892*J_0**3*J_S**3*T**6*exp(3.0*I*kx) - 0.00617283950617284*J_0**3*J_S*T**4*exp(1.0*I*kx) + 0.000160751028806584*J_0**2*J_S**4*T**6*exp(4.0*I*kx) - 0.00462962962962963*J_0**2*J_S**2*T**4*exp(2.0*I*kx) + 0.0555555555555556*J_0**2*T**2 + 3.21502057613169e-5*J_0*J_S**5*T**6*exp(5.0*I*kx) - 0.00154320987654321*J_0*J_S**3*T**4*exp(3.0*I*kx) + 0.0555555555555556*J_0*J_S*T**2*exp(1.0*I*kx) + 2.67918381344307e-6*J_S**6*T**6*exp(6.0*I*kx) - 0.000192901234567901*J_S**4*T**4*exp(4.0*I*kx) + 0.0138888888888889*J_S**2*T**2*exp(2.0*I*kx) - 1.0)*(2.67918381344307e-6*J_0**6*T**12 + 8.03755144032922e-6*J_0**5*J_S*T**12*exp(1.0*I*kx) + 1.00469393004115e-5*J_0**4*J_S**2*T**12*exp(2.0*I*kx) - 9.64506172839506e-5*pi**2*J_0**4*T**8*log(e)**2 - 0.000192901234567901*J_0**4*T**8*log(e)**2 + 0.000192901234567901*I*pi*J_0**4*T**8*log(e)**2 + 6.69795953360768e-6*J_0**3*J_S**3*T**12*exp(3.0*I*kx) - 0.000192901234567901*pi**2*J_0**3*J_S*T**8*exp(1.0*I*kx)*log(e)**2 - 0.000385802469135802*J_0**3*J_S*T**8*exp(1.0*I*kx)*log(e)**2 + 0.000385802469135802*I*pi*J_0**3*J_S*T**8*exp(1.0*I*kx)*log(e)**2 + 2.51173482510288e-6*J_0**2*J_S**4*T**12*exp(4.0*I*kx) - 0.000144675925925926*pi**2*J_0**2*J_S**2*T**8*exp(2.0*I*kx)*log(e)**2 - 0.000289351851851852*J_0**2*J_S**2*T**8*exp(2.0*I*kx)*log(e)**2 + 0.000289351851851852*I*pi*J_0**2*J_S**2*T**8*exp(2.0*I*kx)*log(e)**2 - 0.00347222222222222*pi**4*J_0**2*T**4*log(e)**4 + 0.0138888888888889*J_0**2*T**4*log(e)**4 + 0.0138888888888889*pi**2*J_0**2*T**4*log(e)**4 + 0.0138888888888889*I*pi**3*J_0**2*T**4*log(e)**4 + 5.02346965020576e-7*J_0*J_S**5*T**12*exp(5.0*I*kx) - 4.82253086419753e-5*pi**2*J_0*J_S**3*T**8*exp(3.0*I*kx)*log(e)**2 - 9.64506172839506e-5*J_0*J_S**3*T**8*exp(3.0*I*kx)*log(e)**2 + 9.64506172839506e-5*I*pi*J_0*J_S**3*T**8*exp(3.0*I*kx)*log(e)**2 - 0.00347222222222222*pi**4*J_0*J_S*T**4*exp(1.0*I*kx)*log(e)**4 + 0.0138888888888889*J_0*J_S*T**4*exp(1.0*I*kx)*log(e)**4 + 0.0138888888888889*pi**2*J_0*J_S*T**4*exp(1.0*I*kx)*log(e)**4 + 0.0138888888888889*I*pi**3*J_0*J_S*T**4*exp(1.0*I*kx)*log(e)**4 + 4.1862247085048e-8*J_S**6*T**12*exp(6.0*I*kx) - 6.02816358024691e-6*pi**2*J_S**4*T**8*exp(4.0*I*kx)*log(e)**2 - 1.20563271604938e-5*J_S**4*T**8*exp(4.0*I*kx)*log(e)**2 + 1.20563271604938e-5*I*pi*J_S**4*T**8*exp(4.0*I*kx)*log(e)**2 - 0.000868055555555556*pi**4*J_S**2*T**4*exp(2.0*I*kx)*log(e)**4 + 0.00347222222222222*J_S**2*T**4*exp(2.0*I*kx)*log(e)**4 + 0.00347222222222222*pi**2*J_S**2*T**4*exp(2.0*I*kx)*log(e)**4 + 0.00347222222222222*I*pi**3*J_S**2*T**4*exp(2.0*I*kx)*log(e)**4 - 2.25*pi**4*log(e)**6 - 1.0*log(e)**6 + 4.5*pi**2*log(e)**6 + 0.125*pi**6*log(e)**6 - 0.75*I*pi**5*log(e)**6 - 3.0*I*pi*log(e)**6 + 4.0*I*pi**3*log(e)**6)))*(0.166666666666667*J_S*T*(0.5*(-0.0277777777777778*J_0**2*T**4 - 0.0277777777777778*J_0*J_S*T**4*exp(1.0*I*kx) - 0.00694444444444444*J_S**2*T**4*exp(2.0*I*kx) - 1.0*pi**2*log(e)**2)/log(e)**2 + 1 + 1.0*I*pi)*exp(1.0*I*kx) - 0.5*I*(J_0*T/3 + J_S*T*exp(1.0*I*kx)/6)*(-0.0277777777777778*I*J_0*J_S*T**4*exp(1.0*I*kx) - 0.0138888888888889*I*J_S**2*T**4*exp(2.0*I*kx))/log(e)**2 + (0.5*I*T*(-J_0*T/(3*log(e)) - J_S*T*exp(1.0*I*kx)/(6*log(e))) + 0.5*(0.333333333333333*pi*J_0*T**2 + 0.166666666666667*pi*J_S*T**2*exp(1.0*I*kx))/log(e))*(-0.0555555555555556*I*J_0*J_S*T**2*exp(1.0*I*kx) - 0.0277777777777778*I*J_S**2*T**2*exp(2.0*I*kx)) + (0.0833333333333333*J_S*T**2*exp(1.0*I*kx)/log(e) + 0.0833333333333333*I*pi*J_S*T**2*exp(1.0*I*kx)/log(e))*(-0.0555555555555556*J_0**2*T**2 - 0.0555555555555556*J_0*J_S*T**2*exp(1.0*I*kx) - 0.0138888888888889*J_S**2*T**2*exp(2.0*I*kx) + 1))\n"
          ]
        },
        {
          "output_type": "display_data",
          "data": {
            "text/plain": [
              "<Figure size 640x480 with 1 Axes>"
            ],
            "image/png": "[encoded data removed]"
          },
          "metadata": {}
        },
        {
          "output_type": "error",
          "ename": "AttributeError",
          "evalue": "ignored",
          "traceback": [
            "\u001b[0;31m---------------------------------------------------------------------------\u001b[0m",
            "\u001b[0;31mAttributeError\u001b[0m                            Traceback (most recent call last)",
            "\u001b[0;32m<ipython-input-11-8fa014d26882>\u001b[0m in \u001b[0;36m<cell line: 53>\u001b[0;34m()\u001b[0m\n\u001b[1;32m     51\u001b[0m \u001b[0;31m# sp.latex(Trace_FM1)\u001b[0m\u001b[0;34m\u001b[0m\u001b[0;34m\u001b[0m\u001b[0m\n\u001b[1;32m     52\u001b[0m \u001b[0mplt\u001b[0m \u001b[0;34m=\u001b[0m \u001b[0msp\u001b[0m\u001b[0;34m.\u001b[0m\u001b[0mplot\u001b[0m\u001b[0;34m(\u001b[0m\u001b[0mTrace_FM1\u001b[0m\u001b[0;34m,\u001b[0m \u001b[0;34m(\u001b[0m\u001b[0mkx\u001b[0m\u001b[0;34m,\u001b[0m \u001b[0;34m-\u001b[0m\u001b[0msp\u001b[0m\u001b[0;34m.\u001b[0m\u001b[0mpi\u001b[0m\u001b[0;34m,\u001b[0m \u001b[0msp\u001b[0m\u001b[0;34m.\u001b[0m\u001b[0mpi\u001b[0m\u001b[0;34m)\u001b[0m\u001b[0;34m)\u001b[0m\u001b[0;34m\u001b[0m\u001b[0;34m\u001b[0m\u001b[0m\n\u001b[0;32m---> 53\u001b[0;31m \u001b[0mdata_points\u001b[0m \u001b[0;34m=\u001b[0m \u001b[0mplt\u001b[0m\u001b[0;34m.\u001b[0m\u001b[0mget_plot_data\u001b[0m\u001b[0;34m(\u001b[0m\u001b[0;34m)\u001b[0m\u001b[0;34m\u001b[0m\u001b[0;34m\u001b[0m\u001b[0m\n\u001b[0m\u001b[1;32m     54\u001b[0m \u001b[0mprint\u001b[0m\u001b[0;34m(\u001b[0m\u001b[0mdata_points\u001b[0m\u001b[0;34m)\u001b[0m\u001b[0;34m\u001b[0m\u001b[0;34m\u001b[0m\u001b[0m\n\u001b[1;32m     55\u001b[0m \u001b[0mprint\u001b[0m\u001b[0;34m(\u001b[0m\u001b[0mplt\u001b[0m\u001b[0;34m)\u001b[0m\u001b[0;34m\u001b[0m\u001b[0;34m\u001b[0m\u001b[0m\n",
            "\u001b[0;31mAttributeError\u001b[0m: 'Plot' object has no attribute 'get_plot_data'"
          ]
        }
      ],
      "source": [
        "J_0, J_S, kx, e, T = symbols('J_0, J_S, kx, e, T')\n",
        "M1 = complex(0, -1)*sp.Matrix([[0, (J_0*T/3)+(J_S*T*sp.exp(kx*complex(0,1))/6)],[(J_0*T/3)+(J_S*T*sp.exp(kx*complex(0,1))/6),0]])\n",
        "M2 =  (T/2)*complex(0, 1)*sp.Matrix([[2*sp.pi/T, -(J_0*T/(3*sp.log(e)))-(J_S*T*sp.exp(kx*complex(0,1))/(6*sp.log(e)))],[-(J_0*T/(3*sp.log(e)))-(J_S*T*sp.exp(kx*complex(0,1))/(6*sp.log(e))),2*sp.pi/T]])\n",
        "def matrix_taylor_expansion(X, order):\n",
        "    # Get the dimension of the matrix\n",
        "    n = X.shape[0]\n",
        "\n",
        "    # Create the identity matrix of the same dimension\n",
        "    I = sp.eye(n)\n",
        "\n",
        "    # Initialize the Taylor series expansion with the identity matrix\n",
        "    taylor_expansion = I\n",
        "\n",
        "    # Compute the Taylor series terms up to the specified order\n",
        "    for k in range(1, order+1):\n",
        "        term = X**k / sp.factorial(k)\n",
        "        taylor_expansion += term\n",
        "\n",
        "    return taylor_expansion\n",
        "\n",
        "# X = complex(0, -1)*sp.Matrix([[x, 1], [1, x]])\n",
        "# print(X)\n",
        "\n",
        "# Set the desired order of the Taylor series expansion\n",
        "order = 2\n",
        "\n",
        "# Compute the Taylor series expansion of e^X\n",
        "taylor_expansion1 = matrix_taylor_expansion(M1, order)\n",
        "taylor_expansion2 = matrix_taylor_expansion(M2, order)\n",
        "\n",
        "# print(M1)\n",
        "# print(taylor_expansion1)\n",
        "\n",
        "Product = taylor_expansion1 @ taylor_expansion2\n",
        "Inv_taylor_expansion1 = taylor_expansion1.inv()\n",
        "Inv_taylor_expansion2 = taylor_expansion2.inv()\n",
        "Inv_Product = Inv_taylor_expansion2 @ Inv_taylor_expansion1\n",
        "# print(Inv_Product)\n",
        "\n",
        "Product_dx = Product.diff(kx)\n",
        "# print(Product)\n",
        "# print(Product_dx)\n",
        "\n",
        "FM1 = tau_z @ Inv_Product\n",
        "final_matrix = FM1 @ Product_dx\n",
        "Trace_FM1 = sp.trace(final_matrix)\n",
        "print(Trace_FM1)\n",
        "result = sp.integrate(Trace_FM1, (kx, -1, 1))\n",
        "print(result)\n",
        "Trace_FM1 = Trace_FM1.subs('J_0', 3*1.8*sp.pi/(2*2*sp.pi)).subs('J_S', 3*1.8*sp.pi/(2*2*sp.pi)).subs('e', 0.1).subs('T', 2*sp.pi)\n",
        "# sp.latex(Trace_FM1)\n",
        "plt = sp.plot(Trace_FM1, (kx, -sp.pi, sp.pi))\n",
        "data_points = plt.get_plot_data()\n",
        "print(data_points)\n",
        "print(plt)"
      ]
    },
    {
      "cell_type": "code",
      "execution_count": null,
      "id": "89f7a8d8",
      "metadata": {
        "id": "89f7a8d8",
        "colab": {
          "base_uri": "https://localhost:8080/"
        },
        "outputId": "8224cae0-dc44-470c-a90f-bc8f5c5ee023"
      },
      "outputs": [
        {
          "output_type": "stream",
          "name": "stdout",
          "text": [
            "[[-0.0555555555555556*J_0**2*T**2 - 0.0555555555555556*J_0*J_S*T**2*exp(1.0*I*kx) - 0.0138888888888889*J_S**2*T**2*exp(2.0*I*kx) + 1\n",
            "  -1.0*I*(J_0*T/3 + J_S*T*exp(1.0*I*kx)/6)]\n",
            " [-1.0*I*(J_0*T/3 + J_S*T*exp(1.0*I*kx)/6)\n",
            "  -0.0555555555555556*J_0**2*T**2 - 0.0555555555555556*J_0*J_S*T**2*exp(1.0*I*kx) - 0.0138888888888889*J_S**2*T**2*exp(2.0*I*kx) + 1]]\n"
          ]
        }
      ],
      "source": [
        "nested_list = taylor_expansion.tolist()\n",
        "\n",
        "# Convert the nested list to a NumPy array\n",
        "array = np.array(nested_list)\n",
        "\n",
        "# Print the NumPy array\n",
        "print(array)"
      ]
    },
    {
      "cell_type": "code",
      "source": [
        "!pip install qiskit\n",
        "import numpy as np\n",
        "import matplotlib.pyplot as plt\n",
        "import qiskit\n",
        "from qiskit import IBMQ, Aer,QuantumCircuit, ClassicalRegister, QuantumRegister, transpile, assemble,  Parameter\n",
        "from qiskit.quantum_info import Kraus, SuperOp\n",
        "from qiskit_aer import AerSimulator\n",
        "from qiskit.tools.visualization import plot_histogram\n"
      ],
      "metadata": {
        "colab": {
          "base_uri": "https://localhost:8080/"
        },
        "id": "TaJ4w46kZgWo",
        "outputId": "f8493abd-a70a-4399-954b-0e1aadabcb0e"
      },
      "id": "TaJ4w46kZgWo",
      "execution_count": null,
      "outputs": [
        {
          "output_type": "stream",
          "name": "stdout",
          "text": [
            "Looking in indexes: https://pypi.org/simple, https://us-python.pkg.dev/colab-wheels/public/simple/\n",
            "Collecting qiskit\n",
            "  Downloading qiskit-0.43.1.tar.gz (9.6 kB)\n",
            "  Installing build dependencies ... \u001b[?25l\u001b[?25hdone\n",
            "  Getting requirements to build wheel ... \u001b[?25l\u001b[?25hdone\n",
            "  Installing backend dependencies ... \u001b[?25l\u001b[?25hdone\n",
            "  Preparing metadata (pyproject.toml) ... \u001b[?25l\u001b[?25hdone\n",
            "Collecting qiskit-terra==0.24.1 (from qiskit)\n",
            "  Downloading qiskit_terra-0.24.1-cp310-cp310-manylinux_2_17_x86_64.manylinux2014_x86_64.whl (5.9 MB)\n",
            "\u001b[2K     \u001b[90m━━━━━━━━━━━━━━━━━━━━━━━━━━━━━━━━━━━━━━━━\u001b[0m \u001b[32m5.9/5.9 MB\u001b[0m \u001b[31m43.3 MB/s\u001b[0m eta \u001b[36m0:00:00\u001b[0m\n",
            "\u001b[?25hCollecting qiskit-aer==0.12.0 (from qiskit)\n",
            "  Downloading qiskit_aer-0.12.0-cp310-cp310-manylinux_2_17_x86_64.manylinux2014_x86_64.whl (12.8 MB)\n",
            "\u001b[2K     \u001b[90m━━━━━━━━━━━━━━━━━━━━━━━━━━━━━━━━━━━━━━━━\u001b[0m \u001b[32m12.8/12.8 MB\u001b[0m \u001b[31m71.4 MB/s\u001b[0m eta \u001b[36m0:00:00\u001b[0m\n",
            "\u001b[?25hCollecting qiskit-ibmq-provider==0.20.2 (from qiskit)\n",
            "  Downloading qiskit_ibmq_provider-0.20.2-py3-none-any.whl (241 kB)\n",
            "\u001b[2K     \u001b[90m━━━━━━━━━━━━━━━━━━━━━━━━━━━━━━━━━━━━━━\u001b[0m \u001b[32m241.5/241.5 kB\u001b[0m \u001b[31m20.4 MB/s\u001b[0m eta \u001b[36m0:00:00\u001b[0m\n",
            "\u001b[?25hRequirement already satisfied: numpy>=1.16.3 in /usr/local/lib/python3.10/dist-packages (from qiskit-aer==0.12.0->qiskit) (1.22.4)\n",
            "Requirement already satisfied: scipy>=1.0 in /usr/local/lib/python3.10/dist-packages (from qiskit-aer==0.12.0->qiskit) (1.10.1)\n",
            "Requirement already satisfied: requests>=2.19 in /usr/local/lib/python3.10/dist-packages (from qiskit-ibmq-provider==0.20.2->qiskit) (2.27.1)\n",
            "Collecting requests-ntlm<=1.1.0 (from qiskit-ibmq-provider==0.20.2->qiskit)\n",
            "  Downloading requests_ntlm-1.1.0-py2.py3-none-any.whl (5.7 kB)\n",
            "Requirement already satisfied: urllib3>=1.21.1 in /usr/local/lib/python3.10/dist-packages (from qiskit-ibmq-provider==0.20.2->qiskit) (1.26.15)\n",
            "Requirement already satisfied: python-dateutil>=2.8.0 in /usr/local/lib/python3.10/dist-packages (from qiskit-ibmq-provider==0.20.2->qiskit) (2.8.2)\n",
            "Requirement already satisfied: websocket-client>=1.5.1 in /usr/local/lib/python3.10/dist-packages (from qiskit-ibmq-provider==0.20.2->qiskit) (1.5.1)\n",
            "Collecting websockets>=10.0 (from qiskit-ibmq-provider==0.20.2->qiskit)\n",
            "  Downloading websockets-11.0.3-cp310-cp310-manylinux_2_5_x86_64.manylinux1_x86_64.manylinux_2_17_x86_64.manylinux2014_x86_64.whl (129 kB)\n",
            "\u001b[2K     \u001b[90m━━━━━━━━━━━━━━━━━━━━━━━━━━━━━━━━━━━━━━\u001b[0m \u001b[32m129.9/129.9 kB\u001b[0m \u001b[31m15.5 MB/s\u001b[0m eta \u001b[36m0:00:00\u001b[0m\n",
            "\u001b[?25hCollecting rustworkx>=0.12.0 (from qiskit-terra==0.24.1->qiskit)\n",
            "  Downloading rustworkx-0.13.0-cp310-cp310-manylinux_2_17_x86_64.manylinux2014_x86_64.whl (1.9 MB)\n",
            "\u001b[2K     \u001b[90m━━━━━━━━━━━━━━━━━━━━━━━━━━━━━━━━━━━━━━━━\u001b[0m \u001b[32m1.9/1.9 MB\u001b[0m \u001b[31m65.9 MB/s\u001b[0m eta \u001b[36m0:00:00\u001b[0m\n",
            "\u001b[?25hCollecting ply>=3.10 (from qiskit-terra==0.24.1->qiskit)\n",
            "  Downloading ply-3.11-py2.py3-none-any.whl (49 kB)\n",
            "\u001b[2K     \u001b[90m━━━━━━━━━━━━━━━━━━━━━━━━━━━━━━━━━━━━━━━━\u001b[0m \u001b[32m49.6/49.6 kB\u001b[0m \u001b[31m4.4 MB/s\u001b[0m eta \u001b[36m0:00:00\u001b[0m\n",
            "\u001b[?25hRequirement already satisfied: psutil>=5 in /usr/local/lib/python3.10/dist-packages (from qiskit-terra==0.24.1->qiskit) (5.9.5)\n",
            "Requirement already satisfied: sympy>=1.3 in /usr/local/lib/python3.10/dist-packages (from qiskit-terra==0.24.1->qiskit) (1.11.1)\n",
            "Collecting dill>=0.3 (from qiskit-terra==0.24.1->qiskit)\n",
            "  Downloading dill-0.3.6-py3-none-any.whl (110 kB)\n",
            "\u001b[2K     \u001b[90m━━━━━━━━━━━━━━━━━━━━━━━━━━━━━━━━━━━━━━\u001b[0m \u001b[32m110.5/110.5 kB\u001b[0m \u001b[31m10.7 MB/s\u001b[0m eta \u001b[36m0:00:00\u001b[0m\n",
            "\u001b[?25hCollecting stevedore>=3.0.0 (from qiskit-terra==0.24.1->qiskit)\n",
            "  Downloading stevedore-5.1.0-py3-none-any.whl (49 kB)\n",
            "\u001b[2K     \u001b[90m━━━━━━━━━━━━━━━━━━━━━━━━━━━━━━━━━━━━━━━━\u001b[0m \u001b[32m49.6/49.6 kB\u001b[0m \u001b[31m5.1 MB/s\u001b[0m eta \u001b[36m0:00:00\u001b[0m\n",
            "\u001b[?25hCollecting symengine<0.10,>=0.9 (from qiskit-terra==0.24.1->qiskit)\n",
            "  Downloading symengine-0.9.2-cp310-cp310-manylinux2010_x86_64.whl (37.5 MB)\n",
            "\u001b[2K     \u001b[90m━━━━━━━━━━━━━━━━━━━━━━━━━━━━━━━━━━━━━━━━\u001b[0m \u001b[32m37.5/37.5 MB\u001b[0m \u001b[31m14.8 MB/s\u001b[0m eta \u001b[36m0:00:00\u001b[0m\n",
            "\u001b[?25hRequirement already satisfied: six>=1.5 in /usr/local/lib/python3.10/dist-packages (from python-dateutil>=2.8.0->qiskit-ibmq-provider==0.20.2->qiskit) (1.16.0)\n",
            "Requirement already satisfied: certifi>=2017.4.17 in /usr/local/lib/python3.10/dist-packages (from requests>=2.19->qiskit-ibmq-provider==0.20.2->qiskit) (2022.12.7)\n",
            "Requirement already satisfied: charset-normalizer~=2.0.0 in /usr/local/lib/python3.10/dist-packages (from requests>=2.19->qiskit-ibmq-provider==0.20.2->qiskit) (2.0.12)\n",
            "Requirement already satisfied: idna<4,>=2.5 in /usr/local/lib/python3.10/dist-packages (from requests>=2.19->qiskit-ibmq-provider==0.20.2->qiskit) (3.4)\n",
            "Collecting ntlm-auth>=1.0.2 (from requests-ntlm<=1.1.0->qiskit-ibmq-provider==0.20.2->qiskit)\n",
            "  Downloading ntlm_auth-1.5.0-py2.py3-none-any.whl (29 kB)\n",
            "Requirement already satisfied: cryptography>=1.3 in /usr/local/lib/python3.10/dist-packages (from requests-ntlm<=1.1.0->qiskit-ibmq-provider==0.20.2->qiskit) (40.0.2)\n",
            "Collecting pbr!=2.1.0,>=2.0.0 (from stevedore>=3.0.0->qiskit-terra==0.24.1->qiskit)\n",
            "  Downloading pbr-5.11.1-py2.py3-none-any.whl (112 kB)\n",
            "\u001b[2K     \u001b[90m━━━━━━━━━━━━━━━━━━━━━━━━━━━━━━━━━━━━━━\u001b[0m \u001b[32m112.7/112.7 kB\u001b[0m \u001b[31m11.7 MB/s\u001b[0m eta \u001b[36m0:00:00\u001b[0m\n",
            "\u001b[?25hRequirement already satisfied: mpmath>=0.19 in /usr/local/lib/python3.10/dist-packages (from sympy>=1.3->qiskit-terra==0.24.1->qiskit) (1.3.0)\n",
            "Requirement already satisfied: cffi>=1.12 in /usr/local/lib/python3.10/dist-packages (from cryptography>=1.3->requests-ntlm<=1.1.0->qiskit-ibmq-provider==0.20.2->qiskit) (1.15.1)\n",
            "Requirement already satisfied: pycparser in /usr/local/lib/python3.10/dist-packages (from cffi>=1.12->cryptography>=1.3->requests-ntlm<=1.1.0->qiskit-ibmq-provider==0.20.2->qiskit) (2.21)\n",
            "Building wheels for collected packages: qiskit\n",
            "  Building wheel for qiskit (pyproject.toml) ... \u001b[?25l\u001b[?25hdone\n",
            "  Created wheel for qiskit: filename=qiskit-0.43.1-py3-none-any.whl size=8029 sha256=d2de6568822013042186ca12d0c8d8d1bed2f6ff1b4f332ea47af4e60b09e872\n",
            "  Stored in directory: /root/.cache/pip/wheels/f1/f6/ad/0f2527d2cc0028cd682619f1b50a24476fd3592e0c63f87282\n",
            "Successfully built qiskit\n",
            "Installing collected packages: ply, websockets, symengine, rustworkx, pbr, ntlm-auth, dill, stevedore, requests-ntlm, qiskit-terra, qiskit-ibmq-provider, qiskit-aer, qiskit\n",
            "Successfully installed dill-0.3.6 ntlm-auth-1.5.0 pbr-5.11.1 ply-3.11 qiskit-0.43.1 qiskit-aer-0.12.0 qiskit-ibmq-provider-0.20.2 qiskit-terra-0.24.1 requests-ntlm-1.1.0 rustworkx-0.13.0 stevedore-5.1.0 symengine-0.9.2 websockets-11.0.3\n"
          ]
        }
      ]
    },
    {
      "cell_type": "code",
      "source": [
        "def corr(q, c, system, ancillae, g, t, i):\n",
        "    coA = QuantumCircuit(q,c)\n",
        "\n",
        "    # State Preparation\n",
        "    coA.h(q[system])\n",
        "    coA.h(q[ancillae[2]])\n",
        "    coA.cnot(q[ancillae[2]],q[ancillae[1]])\n",
        "    coA.cnot(q[ancillae[2]],q[ancillae[0]])\n",
        "\n",
        "    # Collisions between the system and ancilla qubits\n",
        "    for j in range(1, i+1, 1):\n",
        "        if j%2 != 0:\n",
        "            coA.cnot(q[ancillae[0]],q[system])\n",
        "            coA.rz(t, q[system])\n",
        "            coA.cnot(q[ancillae[0]],q[system])\n",
        "        else:\n",
        "            coA.cnot(q[ancillae[1]],q[system])\n",
        "            coA.rz(t, q[system])\n",
        "            coA.cnot(q[ancillae[1]],q[system])\n",
        "\n",
        "    coA.h(q[system])\n",
        "\n",
        "    coA.measure(q[system],c[0])\n",
        "\n",
        "    return coA"
      ],
      "metadata": {
        "id": "BhLqsd_HZ0OX"
      },
      "id": "BhLqsd_HZ0OX",
      "execution_count": null,
      "outputs": []
    },
    {
      "cell_type": "code",
      "source": [
        "def U1(circ, alpha, beta, i, Js, *args):\n",
        "  circ.CNOT(i, i+1)\n",
        "  circ.RZ(6*np.pi/4)\n",
        "  t = Parameter('t')\n",
        "  circ.RY(-Js*t)\n",
        "  circ.CNOT(i+1,i)\n",
        "  circ.RY(Js*t)\n",
        "  circ.CNOT(i+1,i)\n",
        "  circ.RZ(-6*np.pi/4)\n",
        "  return circ\n",
        "\n",
        "def wn(q,c,alpha, beta, n, *args):\n",
        "  circ = QuantumCircuit(q, c)\n",
        "\n",
        "  # State Preparation\n",
        "  circ.X(q[2])\n",
        "  for i in range(n-1):\n",
        "    k = U1(circ, alpha, beta, i, 3*alpha/(4*T))\n",
        "    circ = circ + k\n",
        "\n",
        "  for i in range(1, n-1, 1):\n",
        "    g = U1(circ, alpha, beta, i, 3*beta/(2*T))\n",
        "    circ = circ + g\n",
        "\n",
        "  for i in range(n-1):\n",
        "    f = U1(circ, alpha, beta, i, 3*alpha/(4*T))\n",
        "    circ = circ + f\n",
        "  circ.draw(output=\"mpl\")\n",
        "  pass"
      ],
      "metadata": {
        "id": "2LIHt4tEc4fA"
      },
      "id": "2LIHt4tEc4fA",
      "execution_count": null,
      "outputs": []
    },
    {
      "cell_type": "code",
      "source": [],
      "metadata": {
        "id": "0Vn3eEhsm-3i"
      },
      "id": "0Vn3eEhsm-3i",
      "execution_count": null,
      "outputs": []
    },
    {
      "cell_type": "markdown",
      "source": [
        "# New Section"
      ],
      "metadata": {
        "id": "RnspGuf8nTtt"
      },
      "id": "RnspGuf8nTtt"
    }
  ],
  "metadata": {
    "kernelspec": {
      "display_name": "Python 3 (ipykernel)",
      "language": "python",
      "name": "python3"
    },
    "language_info": {
      "codemirror_mode": {
        "name": "ipython",
        "version": 3
      },
      "file_extension": ".py",
      "mimetype": "text/x-python",
      "name": "python",
      "nbconvert_exporter": "python",
      "pygments_lexer": "ipython3",
      "version": "3.9.12"
    },
    "colab": {
      "provenance": [],
      "toc_visible": true
    }
  },
  "nbformat": 4,
  "nbformat_minor": 5
}
