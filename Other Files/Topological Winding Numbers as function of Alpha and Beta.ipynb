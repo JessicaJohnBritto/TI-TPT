{
  "cells": [
    {
      "cell_type": "markdown",
      "source": [
        "#### I guess error is due to you are using function of numpy on sympy, which is beause the interpretar gets confused as between numpy and sympy methods, so so either use sp or np"
      ],
      "metadata": {
        "id": "pYIQUSzBNb2b"
      },
      "id": "pYIQUSzBNb2b"
    },
    {
      "cell_type": "code",
      "execution_count": 1,
      "id": "11184bf1",
      "metadata": {
        "colab": {
          "base_uri": "https://localhost:8080/"
        },
        "id": "11184bf1",
        "outputId": "a9c90342-1a5c-4688-fce1-43d54fff80bf"
      },
      "outputs": [
        {
          "output_type": "stream",
          "name": "stdout",
          "text": [
            "Looking in indexes: https://pypi.org/simple, https://us-python.pkg.dev/colab-wheels/public/simple/\n",
            "Requirement already satisfied: sympy in /usr/local/lib/python3.10/dist-packages (1.11.1)\n",
            "Requirement already satisfied: mpmath>=0.19 in /usr/local/lib/python3.10/dist-packages (from sympy) (1.3.0)\n"
          ]
        }
      ],
      "source": [
        "!pip install sympy"
      ]
    },
    {
      "cell_type": "code",
      "execution_count": 2,
      "id": "6f374afb",
      "metadata": {
        "id": "6f374afb"
      },
      "outputs": [],
      "source": [
        "import matplotlib.pyplot as plt\n",
        "import numpy as np\n",
        "from numpy import random\n",
        "# import scipy.integrate as integrate\n",
        "from sympy import symbols, Matrix\n",
        "import sympy as sp\n",
        "from sympy import series"
      ]
    },
    {
      "cell_type": "code",
      "execution_count": 3,
      "id": "8e29edfa",
      "metadata": {
        "id": "8e29edfa"
      },
      "outputs": [],
      "source": [
        "tau_x = np.array([[0.0, 1.0], [1.0, 0.0]])\n",
        "tau_y = np.array([[0.0, complex(0.0, -1.0)], [ complex(0.0, 1.0), 0.0]])\n",
        "tau_z = np.array([[1.0, 0.0], [0.0, -1.0]])\n",
        "# alpha, beta, T, kx, e= 0, 0, 2, 0, 0.1\n",
        "J_0, J_S, kx, e, T, alpha, beta = symbols('J_0, J_S, kx, e, T, alpha, beta')\n",
        "\n",
        "J_0 = 3*alpha/(4*T)\n",
        "J_S = 3*beta/(2*T)\n",
        "\n",
        "#### Define H and Heff - figure out how this is different from Floquet Hamiltonian H"
      ]
    },
    {
      "cell_type": "code",
      "execution_count": null,
      "id": "2a9015d0",
      "metadata": {
        "id": "2a9015d0"
      },
      "outputs": [],
      "source": [
        "# # For t between [0, T/3]\n",
        "# # Independent of Time\n",
        "# def H1(t, kx):\n",
        "#     return J_0*tau_x\n",
        "\n",
        "# # For t between [T/3, 2T/3]\n",
        "# # Dependent on time\n",
        "# def H2(t, kx):\n",
        "#     # k_x - momentum space coordinate\n",
        "#     # Is k_x related to theta = J_S*t from the paper? Is that how it is time-dependent\n",
        "#     return J_S*((np.cos(kx))*tau_x - (np.sin(kx))*tau_y)\n",
        "\n",
        "# # For t between [2T/3, T]\n",
        "# # Independent of Time\n",
        "# def H3(t, kx):\n",
        "#     return J_0*tau_x\n",
        "\n",
        "# def integ_H(t_prime, t, T, kx):\n",
        "#     if (t>=0 and t<T/3) or (t>2*T/3 and t<=T):\n",
        "#         return J_0*tau_x*t_prime\n",
        "#     if t>T/3 and t<2*T/3:\n",
        "#         return quad(H2, 0, t, args=(t_prime, kx))\n",
        "#     if t==T/3 or t==2*T/3:\n",
        "#         return J_0*tau_x*t_prime + quad(H2, 0, t, args=(t_prime, kx))\n",
        "\n",
        "# def Heff(e, *args):a\n",
        "#     return (-2*np.pi + (1/np.log(e))*integ_H(t_prime, t, T, kx))*complex(0,1)"
      ]
    },
    {
      "cell_type": "code",
      "execution_count": null,
      "id": "400c3e62",
      "metadata": {
        "id": "400c3e62"
      },
      "outputs": [],
      "source": [
        "# def U_1e(e, t, kx, *args):\n",
        "\n",
        "#     return np.exp(i*t*(-integ_H(t_prime, t, T, kx) + Heff(e, t_prime, t, T, kx)))\n",
        "\n",
        "# def winding_num(*args):\n",
        "#     v = 0\n",
        "#     i = complex(0, -1)/(4*np.pi)\n",
        "#     M = -complex(0,1)*T*J_S*(1/3)*(-1+(T/np.log(e)))\n",
        "#     KX = np.linspace(-np.pi, np.pi, num=50, endpoint=True)\n",
        "#     for kx in KX:\n",
        "#         dkU_1e = M*(np.sin(kx)*tau_x - (np.cos(kx)*tau_y))\n",
        "#         v += U_1e(e, t, kx, t_prime=T/2, T=T)*M*U_1e(e, t, kx, t_prime=T/2, T=T)*dkU_1e - U_1e(e, t, kx, t_prime=T/2, T=T)*M*U_1e(e, t, kx, t_prime=T/2, T=T)*dkU_1e\n",
        "#     return v*i\n",
        "\n",
        "# def datapts(*args):\n",
        "#     Alpha = np.linspace(-2, 2, num = 5, endpoint = True)\n",
        "#     Beta = np.linspace(-2, 2, num = 5, endpoint = True)\n",
        "#     for alpha in Alpha:\n",
        "#         for beta in BMeta:\n"
      ]
    },
    {
      "cell_type": "code",
      "execution_count": null,
      "id": "bef05102",
      "metadata": {
        "id": "bef05102"
      },
      "outputs": [],
      "source": [
        "# import sympy as sp\n",
        "\n",
        "# # Define the variables\n",
        "# x = sp.Symbol('x')\n",
        "\n",
        "# # Define the matrix\n",
        "# A = sp.Matrix([[1, x], [x, 1]])\n",
        "\n",
        "# # Compute the Taylor series expansion for each element\n",
        "# taylor_series = A.applyfunc(lambda element: element.series(x, 1, 4).removeO())\n",
        "\n",
        "# # Display the result\n",
        "# print(taylor_series)\n"
      ]
    },
    {
      "cell_type": "code",
      "execution_count": null,
      "id": "ee316975",
      "metadata": {
        "id": "ee316975"
      },
      "outputs": [],
      "source": [
        "# import sympy as sy\n",
        "\n",
        "# def taylor_exponential(x: sy.Symbol, order: int):\n",
        "#     res = sy.MatrixSymbol('I', *x.shape)\n",
        "#     for k in range(1, order):\n",
        "#         res += (x ** k) / sy.factorial(k)\n",
        "#     return res\n",
        "#     # return sy.series(sy.exp(x), x, n=order)\n",
        "\n",
        "# n = sy.symbols(\"n\")\n",
        "# lambd = sy.symbols(\"lambda\")\n",
        "# H0 = sy.MatrixSymbol(\"H_0\", n, n)\n",
        "\n",
        "# print(taylor_exponential(H0 * lambd, 4))"
      ]
    },
    {
      "cell_type": "code",
      "source": [
        "M1 = complex(0, -1)*sp.Matrix([[0, (J_0*T/3)+(J_S*T*sp.exp(kx*complex(0,1))/6)],[(J_0*T/3)+(J_S*T*sp.exp(kx*complex(0,1))/6),0]])\n",
        "M2 =  (T/2)*complex(0, 1)*sp.Matrix([[2*sp.pi/T, -(J_0*T/(3*sp.log(e)))-(J_S*T*sp.exp(kx*complex(0,1))/(6*sp.log(e)))],[-(J_0*T/(3*sp.log(e)))-(J_S*T*sp.exp(kx*complex(0,1))/(6*sp.log(e))),2*sp.pi/T]])"
      ],
      "metadata": {
        "id": "_HV4rnO_MUf_"
      },
      "id": "_HV4rnO_MUf_",
      "execution_count": 4,
      "outputs": []
    },
    {
      "cell_type": "code",
      "source": [
        "print(M1)"
      ],
      "metadata": {
        "colab": {
          "base_uri": "https://localhost:8080/"
        },
        "id": "LsM8WA-YM0Pt",
        "outputId": "43c24cd7-4a78-421b-e4b4-13a3e9fda690"
      },
      "id": "LsM8WA-YM0Pt",
      "execution_count": null,
      "outputs": [
        {
          "output_type": "stream",
          "name": "stdout",
          "text": [
            "Matrix([[0, -1.0*I*(alpha/4 + beta*exp(1.0*I*kx)/4)], [-1.0*I*(alpha/4 + beta*exp(1.0*I*kx)/4), 0]])\n"
          ]
        }
      ]
    },
    {
      "cell_type": "code",
      "execution_count": null,
      "id": "20626a44",
      "metadata": {
        "colab": {
          "base_uri": "https://localhost:8080/",
          "height": 55
        },
        "id": "20626a44",
        "outputId": "af9c9f1b-8aae-44d3-acce-175fb7272d3f"
      },
      "outputs": [
        {
          "output_type": "stream",
          "name": "stdout",
          "text": [
            "(x + 2*y)**2\n"
          ]
        },
        {
          "output_type": "execute_result",
          "data": {
            "text/plain": [
              "16"
            ],
            "text/latex": "$\\displaystyle 16$"
          },
          "metadata": {},
          "execution_count": 11
        }
      ],
      "source": [
        "from sympy import symbols\n",
        "x, y = symbols('x,y')\n",
        "a = x + 2*y\n",
        "print(a*a)\n",
        "(x + 2*y).subs({x:10, y:3})"
      ]
    },
    {
      "cell_type": "code",
      "execution_count": 8,
      "id": "058cb15a",
      "metadata": {
        "colab": {
          "base_uri": "https://localhost:8080/"
        },
        "id": "058cb15a",
        "outputId": "6e93a343-0d98-43a4-c0a1-a8db9d3bd5ab"
      },
      "outputs": [
        {
          "output_type": "stream",
          "name": "stdout",
          "text": [
            "Matrix([[0, -1.0*I*(J_0*T/3 + J_S*T*exp(1.0*I*kx)/6)], [-1.0*I*(J_0*T/3 + J_S*T*exp(1.0*I*kx)/6), 0]])\n",
            "Matrix([[-1.0*I*(J_0*T/3 + J_S*T*exp(1.0*I*kx)/6)*(0.5*I*T*(-J_0*T/(3*log(e)) - J_S*T*exp(1.0*I*kx)/(6*log(e))) + 0.5*(0.333333333333333*pi*J_0*T**2 + 0.166666666666667*pi*J_S*T**2*exp(1.0*I*kx))/log(e)) + (0.5*(-0.0277777777777778*J_0**2*T**4 - 0.0277777777777778*J_0*J_S*T**4*exp(1.0*I*kx) - 0.00694444444444444*J_S**2*T**4*exp(2.0*I*kx) - 1.0*pi**2*log(e)**2)/log(e)**2 + 1 + 1.0*I*pi)*(-0.0555555555555556*J_0**2*T**2 - 0.0555555555555556*J_0*J_S*T**2*exp(1.0*I*kx) - 0.0138888888888889*J_S**2*T**2*exp(2.0*I*kx) + 1), -1.0*I*(J_0*T/3 + J_S*T*exp(1.0*I*kx)/6)*(0.5*(-0.0277777777777778*J_0**2*T**4 - 0.0277777777777778*J_0*J_S*T**4*exp(1.0*I*kx) - 0.00694444444444444*J_S**2*T**4*exp(2.0*I*kx) - 1.0*pi**2*log(e)**2)/log(e)**2 + 1 + 1.0*I*pi) + (0.5*I*T*(-J_0*T/(3*log(e)) - J_S*T*exp(1.0*I*kx)/(6*log(e))) + 0.5*(0.333333333333333*pi*J_0*T**2 + 0.166666666666667*pi*J_S*T**2*exp(1.0*I*kx))/log(e))*(-0.0555555555555556*J_0**2*T**2 - 0.0555555555555556*J_0*J_S*T**2*exp(1.0*I*kx) - 0.0138888888888889*J_S**2*T**2*exp(2.0*I*kx) + 1)], [-1.0*I*(J_0*T/3 + J_S*T*exp(1.0*I*kx)/6)*(0.5*(-0.0277777777777778*J_0**2*T**4 - 0.0277777777777778*J_0*J_S*T**4*exp(1.0*I*kx) - 0.00694444444444444*J_S**2*T**4*exp(2.0*I*kx) - 1.0*pi**2*log(e)**2)/log(e)**2 + 1 + 1.0*I*pi) + (0.5*I*T*(-J_0*T/(3*log(e)) - J_S*T*exp(1.0*I*kx)/(6*log(e))) + 0.5*(0.333333333333333*pi*J_0*T**2 + 0.166666666666667*pi*J_S*T**2*exp(1.0*I*kx))/log(e))*(-0.0555555555555556*J_0**2*T**2 - 0.0555555555555556*J_0*J_S*T**2*exp(1.0*I*kx) - 0.0138888888888889*J_S**2*T**2*exp(2.0*I*kx) + 1), -1.0*I*(J_0*T/3 + J_S*T*exp(1.0*I*kx)/6)*(0.5*I*T*(-J_0*T/(3*log(e)) - J_S*T*exp(1.0*I*kx)/(6*log(e))) + 0.5*(0.333333333333333*pi*J_0*T**2 + 0.166666666666667*pi*J_S*T**2*exp(1.0*I*kx))/log(e)) + (0.5*(-0.0277777777777778*J_0**2*T**4 - 0.0277777777777778*J_0*J_S*T**4*exp(1.0*I*kx) - 0.00694444444444444*J_S**2*T**4*exp(2.0*I*kx) - 1.0*pi**2*log(e)**2)/log(e)**2 + 1 + 1.0*I*pi)*(-0.0555555555555556*J_0**2*T**2 - 0.0555555555555556*J_0*J_S*T**2*exp(1.0*I*kx) - 0.0138888888888889*J_S**2*T**2*exp(2.0*I*kx) + 1)]])\n",
            "Matrix([[-0.0555555555555556*J_0**2*T**2 - 0.0555555555555556*J_0*J_S*T**2*exp(1.0*I*kx) - 0.0138888888888889*J_S**2*T**2*exp(2.0*I*kx) + 1, -1.0*I*(J_0*T/3 + J_S*T*exp(1.0*I*kx)/6)], [-1.0*I*(J_0*T/3 + J_S*T*exp(1.0*I*kx)/6), -0.0555555555555556*J_0**2*T**2 - 0.0555555555555556*J_0*J_S*T**2*exp(1.0*I*kx) - 0.0138888888888889*J_S**2*T**2*exp(2.0*I*kx) + 1]])\n"
          ]
        }
      ],
      "source": [
        "J_0, J_S, kx, e, T = symbols('J_0, J_S, kx, e, T')\n",
        "M1 = complex(0, -1)*sp.Matrix([[0, (J_0*T/3)+(J_S*T*sp.exp(kx*complex(0,1))/6)],[(J_0*T/3)+(J_S*T*sp.exp(kx*complex(0,1))/6),0]])\n",
        "M2 =  (T/2)*complex(0, 1)*sp.Matrix([[2*sp.pi/T, -(J_0*T/(3*sp.log(e)))-(J_S*T*sp.exp(kx*complex(0,1))/(6*sp.log(e)))],[-(J_0*T/(3*sp.log(e)))-(J_S*T*sp.exp(kx*complex(0,1))/(6*sp.log(e))),2*sp.pi/T]])\n",
        "def matrix_taylor_expansion(X, order):\n",
        "    # Get the dimension of the matrix\n",
        "    n = X.shape[0]\n",
        "\n",
        "    # Create the identity matrix of the same dimension\n",
        "    I = sp.eye(n)\n",
        "\n",
        "    # Initialize the Taylor series expansion with the identity matrix\n",
        "    taylor_expansion = I\n",
        "\n",
        "    # Compute the Taylor series terms up to the specified order\n",
        "    for k in range(1, order+1):\n",
        "        term = X**k / sp.factorial(k)\n",
        "        taylor_expansion += term\n",
        "\n",
        "    return taylor_expansion\n",
        "\n",
        "# X = complex(0, -1)*sp.Matrix([[x, 1], [1, x]])\n",
        "# print(X)\n",
        "\n",
        "# Set the desired order of the Taylor series expansion\n",
        "order = 2\n",
        "print(M1)\n",
        "\n",
        "# Compute the Taylor series expansion of e^X\n",
        "taylor_expansion1 = matrix_taylor_expansion(M1, order)\n",
        "taylor_expansion2 = matrix_taylor_expansion(M2, order)\n",
        "\n",
        "Product = taylor_expansion1 @ taylor_expansion2\n",
        "print(Product)"
      ]
    },
    {
      "cell_type": "code",
      "execution_count": 9,
      "id": "89f7a8d8",
      "metadata": {
        "id": "89f7a8d8",
        "colab": {
          "base_uri": "https://localhost:8080/"
        },
        "outputId": "8224cae0-dc44-470c-a90f-bc8f5c5ee023"
      },
      "outputs": [
        {
          "output_type": "stream",
          "name": "stdout",
          "text": [
            "[[-0.0555555555555556*J_0**2*T**2 - 0.0555555555555556*J_0*J_S*T**2*exp(1.0*I*kx) - 0.0138888888888889*J_S**2*T**2*exp(2.0*I*kx) + 1\n",
            "  -1.0*I*(J_0*T/3 + J_S*T*exp(1.0*I*kx)/6)]\n",
            " [-1.0*I*(J_0*T/3 + J_S*T*exp(1.0*I*kx)/6)\n",
            "  -0.0555555555555556*J_0**2*T**2 - 0.0555555555555556*J_0*J_S*T**2*exp(1.0*I*kx) - 0.0138888888888889*J_S**2*T**2*exp(2.0*I*kx) + 1]]\n"
          ]
        }
      ],
      "source": [
        "nested_list = taylor_expansion.tolist()\n",
        "\n",
        "# Convert the nested list to a NumPy array\n",
        "array = np.array(nested_list)\n",
        "\n",
        "# Print the NumPy array\n",
        "print(array)"
      ]
    },
    {
      "cell_type": "code",
      "source": [
        "!pip install qiskit\n",
        "import numpy as np\n",
        "import matplotlib.pyplot as plt\n",
        "import qiskit\n",
        "from qiskit import IBMQ, Aer,QuantumCircuit, ClassicalRegister, QuantumRegister, transpile, assemble,  Parameter\n",
        "from qiskit.quantum_info import Kraus, SuperOp\n",
        "from qiskit_aer import AerSimulator\n",
        "from qiskit.tools.visualization import plot_histogram\n",
        "# Import from Qiskit Aer noise module\n",
        "# from qiskit_aer.noise import (NoiseModel, QuantumError, ReadoutError,\n",
        "#     pauli_error, depolarizing_error, thermal_relaxation_error)\n",
        "\n",
        "# from qiskit_experiments.library import StateTomography\n",
        "#!pip install cvxpy\n",
        "# import cvxpy\n",
        "\n",
        "# from mitiq.zne import execute_with_zne\n",
        "# from mitiq . zne . inference import AdaExpFactory\n",
        "# from mitiq . zne . inference import LinearFactory\n",
        "# from mitiq import zne"
      ],
      "metadata": {
        "colab": {
          "base_uri": "https://localhost:8080/"
        },
        "id": "TaJ4w46kZgWo",
        "outputId": "f8493abd-a70a-4399-954b-0e1aadabcb0e"
      },
      "id": "TaJ4w46kZgWo",
      "execution_count": 11,
      "outputs": [
        {
          "output_type": "stream",
          "name": "stdout",
          "text": [
            "Looking in indexes: https://pypi.org/simple, https://us-python.pkg.dev/colab-wheels/public/simple/\n",
            "Collecting qiskit\n",
            "  Downloading qiskit-0.43.1.tar.gz (9.6 kB)\n",
            "  Installing build dependencies ... \u001b[?25l\u001b[?25hdone\n",
            "  Getting requirements to build wheel ... \u001b[?25l\u001b[?25hdone\n",
            "  Installing backend dependencies ... \u001b[?25l\u001b[?25hdone\n",
            "  Preparing metadata (pyproject.toml) ... \u001b[?25l\u001b[?25hdone\n",
            "Collecting qiskit-terra==0.24.1 (from qiskit)\n",
            "  Downloading qiskit_terra-0.24.1-cp310-cp310-manylinux_2_17_x86_64.manylinux2014_x86_64.whl (5.9 MB)\n",
            "\u001b[2K     \u001b[90m━━━━━━━━━━━━━━━━━━━━━━━━━━━━━━━━━━━━━━━━\u001b[0m \u001b[32m5.9/5.9 MB\u001b[0m \u001b[31m43.3 MB/s\u001b[0m eta \u001b[36m0:00:00\u001b[0m\n",
            "\u001b[?25hCollecting qiskit-aer==0.12.0 (from qiskit)\n",
            "  Downloading qiskit_aer-0.12.0-cp310-cp310-manylinux_2_17_x86_64.manylinux2014_x86_64.whl (12.8 MB)\n",
            "\u001b[2K     \u001b[90m━━━━━━━━━━━━━━━━━━━━━━━━━━━━━━━━━━━━━━━━\u001b[0m \u001b[32m12.8/12.8 MB\u001b[0m \u001b[31m71.4 MB/s\u001b[0m eta \u001b[36m0:00:00\u001b[0m\n",
            "\u001b[?25hCollecting qiskit-ibmq-provider==0.20.2 (from qiskit)\n",
            "  Downloading qiskit_ibmq_provider-0.20.2-py3-none-any.whl (241 kB)\n",
            "\u001b[2K     \u001b[90m━━━━━━━━━━━━━━━━━━━━━━━━━━━━━━━━━━━━━━\u001b[0m \u001b[32m241.5/241.5 kB\u001b[0m \u001b[31m20.4 MB/s\u001b[0m eta \u001b[36m0:00:00\u001b[0m\n",
            "\u001b[?25hRequirement already satisfied: numpy>=1.16.3 in /usr/local/lib/python3.10/dist-packages (from qiskit-aer==0.12.0->qiskit) (1.22.4)\n",
            "Requirement already satisfied: scipy>=1.0 in /usr/local/lib/python3.10/dist-packages (from qiskit-aer==0.12.0->qiskit) (1.10.1)\n",
            "Requirement already satisfied: requests>=2.19 in /usr/local/lib/python3.10/dist-packages (from qiskit-ibmq-provider==0.20.2->qiskit) (2.27.1)\n",
            "Collecting requests-ntlm<=1.1.0 (from qiskit-ibmq-provider==0.20.2->qiskit)\n",
            "  Downloading requests_ntlm-1.1.0-py2.py3-none-any.whl (5.7 kB)\n",
            "Requirement already satisfied: urllib3>=1.21.1 in /usr/local/lib/python3.10/dist-packages (from qiskit-ibmq-provider==0.20.2->qiskit) (1.26.15)\n",
            "Requirement already satisfied: python-dateutil>=2.8.0 in /usr/local/lib/python3.10/dist-packages (from qiskit-ibmq-provider==0.20.2->qiskit) (2.8.2)\n",
            "Requirement already satisfied: websocket-client>=1.5.1 in /usr/local/lib/python3.10/dist-packages (from qiskit-ibmq-provider==0.20.2->qiskit) (1.5.1)\n",
            "Collecting websockets>=10.0 (from qiskit-ibmq-provider==0.20.2->qiskit)\n",
            "  Downloading websockets-11.0.3-cp310-cp310-manylinux_2_5_x86_64.manylinux1_x86_64.manylinux_2_17_x86_64.manylinux2014_x86_64.whl (129 kB)\n",
            "\u001b[2K     \u001b[90m━━━━━━━━━━━━━━━━━━━━━━━━━━━━━━━━━━━━━━\u001b[0m \u001b[32m129.9/129.9 kB\u001b[0m \u001b[31m15.5 MB/s\u001b[0m eta \u001b[36m0:00:00\u001b[0m\n",
            "\u001b[?25hCollecting rustworkx>=0.12.0 (from qiskit-terra==0.24.1->qiskit)\n",
            "  Downloading rustworkx-0.13.0-cp310-cp310-manylinux_2_17_x86_64.manylinux2014_x86_64.whl (1.9 MB)\n",
            "\u001b[2K     \u001b[90m━━━━━━━━━━━━━━━━━━━━━━━━━━━━━━━━━━━━━━━━\u001b[0m \u001b[32m1.9/1.9 MB\u001b[0m \u001b[31m65.9 MB/s\u001b[0m eta \u001b[36m0:00:00\u001b[0m\n",
            "\u001b[?25hCollecting ply>=3.10 (from qiskit-terra==0.24.1->qiskit)\n",
            "  Downloading ply-3.11-py2.py3-none-any.whl (49 kB)\n",
            "\u001b[2K     \u001b[90m━━━━━━━━━━━━━━━━━━━━━━━━━━━━━━━━━━━━━━━━\u001b[0m \u001b[32m49.6/49.6 kB\u001b[0m \u001b[31m4.4 MB/s\u001b[0m eta \u001b[36m0:00:00\u001b[0m\n",
            "\u001b[?25hRequirement already satisfied: psutil>=5 in /usr/local/lib/python3.10/dist-packages (from qiskit-terra==0.24.1->qiskit) (5.9.5)\n",
            "Requirement already satisfied: sympy>=1.3 in /usr/local/lib/python3.10/dist-packages (from qiskit-terra==0.24.1->qiskit) (1.11.1)\n",
            "Collecting dill>=0.3 (from qiskit-terra==0.24.1->qiskit)\n",
            "  Downloading dill-0.3.6-py3-none-any.whl (110 kB)\n",
            "\u001b[2K     \u001b[90m━━━━━━━━━━━━━━━━━━━━━━━━━━━━━━━━━━━━━━\u001b[0m \u001b[32m110.5/110.5 kB\u001b[0m \u001b[31m10.7 MB/s\u001b[0m eta \u001b[36m0:00:00\u001b[0m\n",
            "\u001b[?25hCollecting stevedore>=3.0.0 (from qiskit-terra==0.24.1->qiskit)\n",
            "  Downloading stevedore-5.1.0-py3-none-any.whl (49 kB)\n",
            "\u001b[2K     \u001b[90m━━━━━━━━━━━━━━━━━━━━━━━━━━━━━━━━━━━━━━━━\u001b[0m \u001b[32m49.6/49.6 kB\u001b[0m \u001b[31m5.1 MB/s\u001b[0m eta \u001b[36m0:00:00\u001b[0m\n",
            "\u001b[?25hCollecting symengine<0.10,>=0.9 (from qiskit-terra==0.24.1->qiskit)\n",
            "  Downloading symengine-0.9.2-cp310-cp310-manylinux2010_x86_64.whl (37.5 MB)\n",
            "\u001b[2K     \u001b[90m━━━━━━━━━━━━━━━━━━━━━━━━━━━━━━━━━━━━━━━━\u001b[0m \u001b[32m37.5/37.5 MB\u001b[0m \u001b[31m14.8 MB/s\u001b[0m eta \u001b[36m0:00:00\u001b[0m\n",
            "\u001b[?25hRequirement already satisfied: six>=1.5 in /usr/local/lib/python3.10/dist-packages (from python-dateutil>=2.8.0->qiskit-ibmq-provider==0.20.2->qiskit) (1.16.0)\n",
            "Requirement already satisfied: certifi>=2017.4.17 in /usr/local/lib/python3.10/dist-packages (from requests>=2.19->qiskit-ibmq-provider==0.20.2->qiskit) (2022.12.7)\n",
            "Requirement already satisfied: charset-normalizer~=2.0.0 in /usr/local/lib/python3.10/dist-packages (from requests>=2.19->qiskit-ibmq-provider==0.20.2->qiskit) (2.0.12)\n",
            "Requirement already satisfied: idna<4,>=2.5 in /usr/local/lib/python3.10/dist-packages (from requests>=2.19->qiskit-ibmq-provider==0.20.2->qiskit) (3.4)\n",
            "Collecting ntlm-auth>=1.0.2 (from requests-ntlm<=1.1.0->qiskit-ibmq-provider==0.20.2->qiskit)\n",
            "  Downloading ntlm_auth-1.5.0-py2.py3-none-any.whl (29 kB)\n",
            "Requirement already satisfied: cryptography>=1.3 in /usr/local/lib/python3.10/dist-packages (from requests-ntlm<=1.1.0->qiskit-ibmq-provider==0.20.2->qiskit) (40.0.2)\n",
            "Collecting pbr!=2.1.0,>=2.0.0 (from stevedore>=3.0.0->qiskit-terra==0.24.1->qiskit)\n",
            "  Downloading pbr-5.11.1-py2.py3-none-any.whl (112 kB)\n",
            "\u001b[2K     \u001b[90m━━━━━━━━━━━━━━━━━━━━━━━━━━━━━━━━━━━━━━\u001b[0m \u001b[32m112.7/112.7 kB\u001b[0m \u001b[31m11.7 MB/s\u001b[0m eta \u001b[36m0:00:00\u001b[0m\n",
            "\u001b[?25hRequirement already satisfied: mpmath>=0.19 in /usr/local/lib/python3.10/dist-packages (from sympy>=1.3->qiskit-terra==0.24.1->qiskit) (1.3.0)\n",
            "Requirement already satisfied: cffi>=1.12 in /usr/local/lib/python3.10/dist-packages (from cryptography>=1.3->requests-ntlm<=1.1.0->qiskit-ibmq-provider==0.20.2->qiskit) (1.15.1)\n",
            "Requirement already satisfied: pycparser in /usr/local/lib/python3.10/dist-packages (from cffi>=1.12->cryptography>=1.3->requests-ntlm<=1.1.0->qiskit-ibmq-provider==0.20.2->qiskit) (2.21)\n",
            "Building wheels for collected packages: qiskit\n",
            "  Building wheel for qiskit (pyproject.toml) ... \u001b[?25l\u001b[?25hdone\n",
            "  Created wheel for qiskit: filename=qiskit-0.43.1-py3-none-any.whl size=8029 sha256=d2de6568822013042186ca12d0c8d8d1bed2f6ff1b4f332ea47af4e60b09e872\n",
            "  Stored in directory: /root/.cache/pip/wheels/f1/f6/ad/0f2527d2cc0028cd682619f1b50a24476fd3592e0c63f87282\n",
            "Successfully built qiskit\n",
            "Installing collected packages: ply, websockets, symengine, rustworkx, pbr, ntlm-auth, dill, stevedore, requests-ntlm, qiskit-terra, qiskit-ibmq-provider, qiskit-aer, qiskit\n",
            "Successfully installed dill-0.3.6 ntlm-auth-1.5.0 pbr-5.11.1 ply-3.11 qiskit-0.43.1 qiskit-aer-0.12.0 qiskit-ibmq-provider-0.20.2 qiskit-terra-0.24.1 requests-ntlm-1.1.0 rustworkx-0.13.0 stevedore-5.1.0 symengine-0.9.2 websockets-11.0.3\n"
          ]
        }
      ]
    },
    {
      "cell_type": "code",
      "source": [
        "def corr(q, c, system, ancillae, g, t, i):\n",
        "    coA = QuantumCircuit(q,c)\n",
        "\n",
        "    # State Preparation\n",
        "    coA.h(q[system])\n",
        "    coA.h(q[ancillae[2]])\n",
        "    coA.cnot(q[ancillae[2]],q[ancillae[1]])\n",
        "    coA.cnot(q[ancillae[2]],q[ancillae[0]])\n",
        "\n",
        "    # Collisions between the system and ancilla qubits\n",
        "    for j in range(1, i+1, 1):\n",
        "        if j%2 != 0:\n",
        "            coA.cnot(q[ancillae[0]],q[system])\n",
        "            coA.rz(t, q[system])\n",
        "            coA.cnot(q[ancillae[0]],q[system])\n",
        "        else:\n",
        "            coA.cnot(q[ancillae[1]],q[system])\n",
        "            coA.rz(t, q[system])\n",
        "            coA.cnot(q[ancillae[1]],q[system])\n",
        "\n",
        "    coA.h(q[system])\n",
        "\n",
        "    coA.measure(q[system],c[0])\n",
        "\n",
        "    return coA"
      ],
      "metadata": {
        "id": "BhLqsd_HZ0OX"
      },
      "id": "BhLqsd_HZ0OX",
      "execution_count": 12,
      "outputs": []
    },
    {
      "cell_type": "code",
      "source": [
        "def U1(circ, alpha, beta, i, Js, *args):\n",
        "  circ.CNOT(i, i+1)\n",
        "  circ.RZ(6*np.pi/4)\n",
        "  t = Parameter('t')\n",
        "  circ.RY(-Js*t)\n",
        "  circ.CNOT(i+1,i)\n",
        "  circ.RY(Js*t)\n",
        "  circ.CNOT(i+1,i)\n",
        "  circ.RZ(-6*np.pi/4)\n",
        "  return circ\n",
        "\n",
        "def wn(q,c,alpha, beta, n, *args):\n",
        "  circ = QuantumCircuit(q, c)\n",
        "\n",
        "  # State Preparation\n",
        "  circ.X(q[2])\n",
        "  for i in range(n-1):\n",
        "    k = U1(circ, alpha, beta, i, 3*alpha/(4*T))\n",
        "    circ = circ + k\n",
        "\n",
        "  return"
      ],
      "metadata": {
        "id": "2LIHt4tEc4fA"
      },
      "id": "2LIHt4tEc4fA",
      "execution_count": 14,
      "outputs": []
    },
    {
      "cell_type": "code",
      "source": [],
      "metadata": {
        "id": "uvJg4QKpdUQ_"
      },
      "id": "uvJg4QKpdUQ_",
      "execution_count": null,
      "outputs": []
    }
  ],
  "metadata": {
    "kernelspec": {
      "display_name": "Python 3 (ipykernel)",
      "language": "python",
      "name": "python3"
    },
    "language_info": {
      "codemirror_mode": {
        "name": "ipython",
        "version": 3
      },
      "file_extension": ".py",
      "mimetype": "text/x-python",
      "name": "python",
      "nbconvert_exporter": "python",
      "pygments_lexer": "ipython3",
      "version": "3.9.12"
    },
    "colab": {
      "provenance": []
    }
  },
  "nbformat": 4,
  "nbformat_minor": 5
}
